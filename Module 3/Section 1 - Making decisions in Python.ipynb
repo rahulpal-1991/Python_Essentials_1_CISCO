{
 "cells": [
  {
   "cell_type": "markdown",
   "id": "335a3e3e",
   "metadata": {},
   "source": [
    "# Making decisions in Python\n",
    "Learning about conditional statements and how to use them to make decisions in Python."
   ]
  },
  {
   "cell_type": "markdown",
   "id": "43df23b6",
   "metadata": {},
   "source": [
    "## I. Questions and Answers\n",
    "\n",
    "- A programmer writes a program, and THE PROGRAM ASKS THE QUESTIONS.\n",
    "- A COMPUTER EXECUTES THE PROGRAM AND PROVIDES THE ANSWERS.\n",
    "- The program must be able to react according to the received answers.\n",
    "\n",
    "Computer know only two kinds of answers\n",
    "\n",
    "        - True\n",
    "        - False\n",
    "        \n",
    "- To ask questions, Python uses a set of very special operators as discussed here in this notebook."
   ]
  },
  {
   "cell_type": "markdown",
   "id": "ae0921a4",
   "metadata": {},
   "source": [
    "## 2. Operators"
   ]
  },
  {
   "cell_type": "markdown",
   "id": "81141fa6",
   "metadata": {},
   "source": [
    "#### EQUALITY: The equal to operator ( == ) \n",
    "\n",
    "- It compares the values of two operands.\n",
    "- If they are equal, the result of the comaprison is True\n",
    "- If they are not equal, the result of the comparison is False"
   ]
  },
  {
   "cell_type": "code",
   "execution_count": 1,
   "id": "0f6ea0ab",
   "metadata": {},
   "outputs": [
    {
     "name": "stdout",
     "output_type": "stream",
     "text": [
      "True\n",
      "False\n"
     ]
    }
   ],
   "source": [
    "var = 0\n",
    "print(var == 0)\n",
    "\n",
    "var = 1\n",
    "print(var == 0)"
   ]
  },
  {
   "cell_type": "markdown",
   "id": "d3696392",
   "metadata": {},
   "source": [
    "#### INEQUALITY: The not equal to operator ( != )\n"
   ]
  },
  {
   "cell_type": "markdown",
   "id": "fb4f5fd7",
   "metadata": {},
   "source": [
    "- It also compares the two operands.\n",
    "- If they are equal, then the result of the comparison is 'False'\n",
    "- If they are not equal, then the result of the comparison is 'True'"
   ]
  },
  {
   "cell_type": "code",
   "execution_count": 4,
   "id": "556d271e",
   "metadata": {},
   "outputs": [
    {
     "name": "stdout",
     "output_type": "stream",
     "text": [
      "False\n",
      "True\n"
     ]
    }
   ],
   "source": [
    "var1 = 0\n",
    "print(var1 != 0 )\n",
    "\n",
    "var2 = 1\n",
    "print(var2 != 0)"
   ]
  },
  {
   "cell_type": "markdown",
   "id": "6989aae7",
   "metadata": {},
   "source": [
    "#### GREATER THAN ( > )"
   ]
  },
  {
   "cell_type": "markdown",
   "id": "b8431f52",
   "metadata": {},
   "source": [
    "    Returns 'True' if the left side operand is greater than the right side operand. Else retuns False."
   ]
  },
  {
   "cell_type": "code",
   "execution_count": 5,
   "id": "03fd07c5",
   "metadata": {},
   "outputs": [
    {
     "name": "stdout",
     "output_type": "stream",
     "text": [
      "False\n",
      "True\n"
     ]
    }
   ],
   "source": [
    "num1 = 5\n",
    "num2 = 10\n",
    "\n",
    "print(num1 > num2)\n",
    "print(num2 > num1)"
   ]
  },
  {
   "cell_type": "markdown",
   "id": "5bae0af6",
   "metadata": {},
   "source": [
    "#### GREATER THAN OR EQUAL TO ( >= )\n",
    "    Its a non strict variant of comparison operator."
   ]
  },
  {
   "cell_type": "code",
   "execution_count": 6,
   "id": "78919fbb",
   "metadata": {},
   "outputs": [
    {
     "name": "stdout",
     "output_type": "stream",
     "text": [
      "False\n",
      "True\n"
     ]
    }
   ],
   "source": [
    "num3 = 40\n",
    "num4 = 45\n",
    "num5 = 45\n",
    "\n",
    "print(num3 >= num4)\n",
    "print(num4 >= num5)\n"
   ]
  },
  {
   "cell_type": "markdown",
   "id": "e6c37e1a",
   "metadata": {},
   "source": [
    "#### LESS THAN ( < )\n",
    "    Just like Greater than, Less than operator works in a similar fashion."
   ]
  },
  {
   "cell_type": "code",
   "execution_count": 7,
   "id": "c6b828ac",
   "metadata": {},
   "outputs": [
    {
     "name": "stdout",
     "output_type": "stream",
     "text": [
      "True\n",
      "False\n"
     ]
    }
   ],
   "source": [
    "print(num1 < num2)\n",
    "print(num2 < num1)"
   ]
  },
  {
   "cell_type": "markdown",
   "id": "f7e6ec61",
   "metadata": {},
   "source": [
    "#### LESS THAN OR EQUAL TO ( <= )\n",
    "    Just like Greater than or equal to, Less than or equal to operator works in a similar fashion."
   ]
  },
  {
   "cell_type": "code",
   "execution_count": 9,
   "id": "60913436",
   "metadata": {},
   "outputs": [
    {
     "name": "stdout",
     "output_type": "stream",
     "text": [
      "True\n",
      "False\n"
     ]
    }
   ],
   "source": [
    "print(num3 <= num4)\n",
    "print(num4 <= num3)"
   ]
  },
  {
   "cell_type": "markdown",
   "id": "aa597b4a",
   "metadata": {},
   "source": [
    "## Making use of the answers"
   ]
  },
  {
   "cell_type": "markdown",
   "id": "1d257acf",
   "metadata": {},
   "source": [
    "There are two possibilities \n",
    "\n",
    "    1. Store in a variable and use it later, as and when required.\n",
    "    2. We can use the answer we get to MAKE A DECISION ABOUT THE FUTURE OF THE PROGRAM. "
   ]
  },
  {
   "cell_type": "markdown",
   "id": "6a0b1095",
   "metadata": {},
   "source": [
    "## LAB | Variables - Questions and Answers"
   ]
  },
  {
   "cell_type": "markdown",
   "id": "dc90ff2e",
   "metadata": {},
   "source": [
    "Scenario\n",
    "\n",
    "\n",
    "Using one of the comparison operators in Python, write a simple two-line program that takes the parameter n as input, which is an integer, and prints False if n is less than 100, and True if n is greater than or equal to 100."
   ]
  },
  {
   "cell_type": "code",
   "execution_count": 11,
   "id": "6f691867",
   "metadata": {},
   "outputs": [
    {
     "name": "stdout",
     "output_type": "stream",
     "text": [
      "Enter a number : 99\n",
      "False\n"
     ]
    }
   ],
   "source": [
    "n = int(input(\"Enter a number : \"))\n",
    "\n",
    "print( n >= 100 )"
   ]
  },
  {
   "cell_type": "markdown",
   "id": "2ae4fe9d",
   "metadata": {},
   "source": [
    "## 3. Conditions & Conditional Execution"
   ]
  },
  {
   "cell_type": "markdown",
   "id": "f46e6322",
   "metadata": {},
   "source": [
    "- We should have some mechanism, which will allow us to do something if a condition is met, and not to do it if it isn't.\n",
    "- To make such decisions, Python offers a special instruction, we call it CONDITIONAL STATEMENT.\n"
   ]
  },
  {
   "cell_type": "markdown",
   "id": "9eeb151b",
   "metadata": {},
   "source": [
    "### if statement"
   ]
  },
  {
   "cell_type": "markdown",
   "id": "4c7f17e2",
   "metadata": {},
   "source": [
    "Explanation:\n",
    "    \n",
    "if true_or_not;\n",
    "\n",
    "    do_this_if_true"
   ]
  },
  {
   "cell_type": "markdown",
   "id": "3ab0757d",
   "metadata": {},
   "source": [
    "###### The conditional statement consists the following things, in strict order.\n",
    "\n",
    "1. The ' if ' keyword.\n",
    "2. atleast one space.\n",
    "3. an expression whose value will be intrepeted only in the terms of True and False.\n",
    "4. colon\n",
    "5. indented instruction or set of instruction."
   ]
  },
  {
   "cell_type": "markdown",
   "id": "ffeb30ae",
   "metadata": {},
   "source": [
    "- If the expression (point 3) is True, then the indented insructions (point 5) will be executed.\n",
    "- If the expression in point 3 is False, then this code block will be ignored, and python will execute next set of instrutcions, if any."
   ]
  },
  {
   "cell_type": "code",
   "execution_count": 18,
   "id": "aabfd150",
   "metadata": {},
   "outputs": [
    {
     "name": "stdout",
     "output_type": "stream",
     "text": [
      "Enter your age: 20\n",
      "You are an adult.\n"
     ]
    }
   ],
   "source": [
    "age = int(input(\"Enter your age: \"))\n",
    "\n",
    "if age >= 18:\n",
    "    print(\"You are an adult.\")\n"
   ]
  },
  {
   "cell_type": "markdown",
   "id": "2737ca98",
   "metadata": {},
   "source": [
    "- In the above piece of code, \"Sleep\" will be printed conditionally (only when the if statement is true)\n",
    "- \"First, Feed the sheepdogs\" will be executed whether the if statement is true or false. "
   ]
  },
  {
   "cell_type": "markdown",
   "id": "fca62bd7",
   "metadata": {},
   "source": [
    "#### if-else statement\n",
    "\n",
    "- if statement, solely says what to do when a certain condition is true.\n",
    "- it doesn't tells what to do when the statement is false.\n",
    "- in a simple code, it might be easy to understand, but in complex code, it is important to mention what to do if the if statement condition is not met. \n",
    "- We use 'else' for fulfilling this agenda.\n",
    "- basically, consider this as a plan B, when our plan A fails!, just like in life.\n",
    "- Syntax\n",
    "\n",
    "if true_or_false_condition:\n",
    "    \n",
    "    perform_if_condition_true\n",
    "\n",
    "else:\n",
    "    \n",
    "    perform_if_condition_false\n",
    "    \n",
    "    - if the condition evaluates to 'True', then \"perform_if_condition_true\" is executed.\n",
    "    - if the condition evaluates to 'False', then \"perform_if_condition_false\" is executed.\n",
    "\n"
   ]
  },
  {
   "cell_type": "code",
   "execution_count": 20,
   "id": "561e8ac9",
   "metadata": {},
   "outputs": [
    {
     "name": "stdout",
     "output_type": "stream",
     "text": [
      "Enter your age: 15\n",
      "You are not an adult\n"
     ]
    }
   ],
   "source": [
    "age = int(input(\"Enter your age: \"))\n",
    "\n",
    "if age >= 18:\n",
    "    print(\"You are an adult.\")\n",
    "else:\n",
    "    print(\"You are not an adult\")"
   ]
  },
  {
   "cell_type": "markdown",
   "id": "f5ba932b",
   "metadata": {},
   "source": [
    "#### Nested if-else statement\n",
    "\n",
    "- Let's discuss two special cases of the conditional statement.\n",
    "\n",
    "    Case 1. The instruction placed after the 'if' is another 'if'\n",
    "    \n",
    "      - Lets see this with an example. - "
   ]
  },
  {
   "cell_type": "code",
   "execution_count": 22,
   "id": "b475dc76",
   "metadata": {},
   "outputs": [
    {
     "name": "stdout",
     "output_type": "stream",
     "text": [
      "Enter your age: 15\n",
      "Enter your annual income : 50000\n",
      "Sorry, you are not eligible for a loan due to being under 18.\n"
     ]
    }
   ],
   "source": [
    "age = int(input(\"Enter your age: \"))\n",
    "income = int(input(\"Enter your annual income : \"))\n",
    "\n",
    "if age >= 18:\n",
    "    if income >= 30000:\n",
    "        print(\"You are eligible for a loan.\")\n",
    "    else:\n",
    "        print(\"Sorry, you are not eligible for a loan due to low income.\")\n",
    "else:\n",
    "    print(\"Sorry, you are not eligible for a loan due to being under 18.\")\n"
   ]
  },
  {
   "cell_type": "markdown",
   "id": "44d95fbd",
   "metadata": {},
   "source": [
    "Note:\n",
    "    \n",
    "    - We cannot use 'else', without a preceding 'if'\n",
    "    \n",
    "    - related 'if' and 'else' should follow the same indentation. will come with practice. \n",
    "    \n",
    "    - indentation is of utmost importance."
   ]
  },
  {
   "cell_type": "markdown",
   "id": "e2ce4dc2",
   "metadata": {},
   "source": [
    "#### elif statement\n",
    "\n",
    "This is case 2\n",
    "\n",
    "- elif is used to check more than one condition, and stops when the first true statement.\n",
    "- it does resembles nesting, though there are some differences.\n",
    "- compare this with english language, every \"otherwise\" in our statement corresponds to \"elif\" in Python."
   ]
  },
  {
   "cell_type": "code",
   "execution_count": 24,
   "id": "2653ccb7",
   "metadata": {},
   "outputs": [
    {
     "name": "stdout",
     "output_type": "stream",
     "text": [
      "Enter your age: 31\n",
      "You are an adult.\n"
     ]
    }
   ],
   "source": [
    "age = int(input(\"Enter your age: \"))\n",
    "\n",
    "if age < 18:\n",
    "    print(\"You are not yet an adult.\")\n",
    "elif age < 25:\n",
    "    print(\"You are a young adult.\")\n",
    "elif age < 60:\n",
    "    print(\"You are an adult.\")\n",
    "else:\n",
    "    print(\"You are a senior citizen.\")\n"
   ]
  },
  {
   "cell_type": "markdown",
   "id": "c5714ba6",
   "metadata": {},
   "source": [
    "- The way to assemble subsequent if-elif-else statements is sometimes called a CASCADE.\n",
    "- remember the indentation.\n",
    "- The 'else' should not be used without a preceding 'if'\n",
    "- In Cascade, 'else' is always the last branch, even if we havent used elif.\n",
    "- \"else\" is optional, can be omitted.\n",
    "- if there is an \"else\" branch, then one branch of the code is executed, at least.\n",
    "- if there is no \"else\" branch, then its possible that none of the available branches is executed. "
   ]
  },
  {
   "cell_type": "markdown",
   "id": "967d0230",
   "metadata": {},
   "source": [
    "#### Example 1\n",
    "\n",
    "Find the largest numbers from 2 numbers"
   ]
  },
  {
   "cell_type": "code",
   "execution_count": 27,
   "id": "83c8d70e",
   "metadata": {},
   "outputs": [
    {
     "name": "stdout",
     "output_type": "stream",
     "text": [
      "Enter the first number: 10\n",
      "Enter the second number: 12\n",
      "The larger number is:  12\n"
     ]
    }
   ],
   "source": [
    "# Read two numbers\n",
    "\n",
    "num1 = int(input(\"Enter the first number: \"))\n",
    "num2 = int(input(\"Enter the second number: \"))\n",
    "\n",
    "#Choose the larger number\n",
    "\n",
    "if num1 > num2:\n",
    "    larger_number = num1\n",
    "else:\n",
    "    larger_number = num2\n",
    "    \n",
    "#print the result\n",
    "print(\"The larger number is: \", larger_number)"
   ]
  },
  {
   "cell_type": "markdown",
   "id": "c52ae7ab",
   "metadata": {},
   "source": [
    "#### Example 2 \n",
    "\n",
    "Find the largest number from 3 numbers\n",
    "\n"
   ]
  },
  {
   "cell_type": "code",
   "execution_count": 30,
   "id": "0cb9d423",
   "metadata": {},
   "outputs": [
    {
     "name": "stdout",
     "output_type": "stream",
     "text": [
      "Enter the first number: 10\n",
      "Enter the second number: 12\n",
      "Enter the third number: 03\n",
      "The largest number is:  12\n"
     ]
    }
   ],
   "source": [
    "#Read the numbers:\n",
    "\n",
    "number1 = int(input(\"Enter the first number: \"))\n",
    "number2 = int(input(\"Enter the second number: \"))\n",
    "number3 = int(input(\"Enter the third number: \"))\n",
    "\n",
    "#Choose the larger number\n",
    "\n",
    "if number1 > number2:\n",
    "    largest_number = number1\n",
    "elif number2 > number3:\n",
    "    largest_number = number2\n",
    "else:\n",
    "    largest_number = number3\n",
    "    \n",
    "#print the result\n",
    "\n",
    "print(\"The largest number is: \", largest_number)"
   ]
  },
  {
   "cell_type": "markdown",
   "id": "9ff975fc",
   "metadata": {},
   "source": [
    "## 4. Pseuodocode\n"
   ]
  },
  {
   "cell_type": "markdown",
   "id": "2c4738de",
   "metadata": {},
   "source": [
    "- Pseudocode is a way of writing a code without using any specific programming language syntax.\n",
    "- It is used as a high-level description of an algorithm or program.\n",
    "- Pseudocode is used to help programmers understand and design algorithms before they start coding.\n",
    "- Pseuodocode can be written in a way that is clear and concise, and it is often written in a style similar to programming languages.\n",
    "- One common way to write pseudocode in Python is to use Python-like syntax & conventions but without worrying about the specific syntax rules of the Python language.\n",
    "- a pseudocode can neither be compiled nor executed.\n"
   ]
  },
  {
   "cell_type": "code",
   "execution_count": null,
   "id": "d27fc1c1",
   "metadata": {},
   "outputs": [],
   "source": [
    "largest_number = -999999999\n",
    "number = int(input())\n",
    "if number == -1:\n",
    "    print(largest_number)\n",
    "    exit()\n",
    "if number > largest_number:\n",
    "    largest_number = number\n",
    "# Go to line 02\n",
    "\n"
   ]
  },
  {
   "cell_type": "markdown",
   "id": "e5fba3c2",
   "metadata": {},
   "source": [
    "Whats happening in the above cell ? \n",
    "\n",
    "- Lets simplify the program\n",
    "        - at the very beginning of the code, we assign the variable \"largest_number\" with a value which will be smaller than any entered number.\n",
    "        - We use -999999999\n",
    "        \n",
    "- We now assume that our algorithm doesn't know in advance, how many numbers will be delivered to the program.\n",
    "- We expect that the user will enter as many numbers as she/he wants, and the algorithm will work, no matter how many numbers.\n",
    "\n",
    "\n"
   ]
  },
  {
   "cell_type": "markdown",
   "id": "e9d0bd31",
   "metadata": {},
   "source": [
    "- We make a deal with the user: when the value -1 is entered, it will be a sign that there are no more data and the program should end its work.\n",
    "\n",
    "- Otherwise, if the entered value is not equal to -1, the program will read another number, and so on.\n",
    "\n",
    "- The trick is based on the assumption that any part of the code can be performed more than once – precisely, as many times as needed.\n",
    "\n",
    "- Performing a certain part of the code more than once is called a loop. The meaning of this term is probably obvious to you.\n",
    "\n",
    "- Lines 02 through 08 make a loop. We'll pass through them as many times as needed to review all the entered values.\n",
    "\n",
    "- Can you use a similar structure in a program written in Python? Yes, you can."
   ]
  },
  {
   "cell_type": "markdown",
   "id": "d8205c36",
   "metadata": {},
   "source": [
    "#### max() and min()"
   ]
  },
  {
   "cell_type": "markdown",
   "id": "8c67dec5",
   "metadata": {},
   "source": [
    "- Python has built-in functions that will find largest and smallest number.\n",
    "- they are max() and min() functions."
   ]
  },
  {
   "cell_type": "code",
   "execution_count": 33,
   "id": "388fe73c",
   "metadata": {},
   "outputs": [
    {
     "name": "stdout",
     "output_type": "stream",
     "text": [
      "Enter the first number: 10\n",
      "Enter the second number: 15\n",
      "Enter the third number: 20\n",
      "The largest number is:  20\n",
      "The smallest number is:  10\n"
     ]
    }
   ],
   "source": [
    "# Read three numbers\n",
    "\n",
    "number_1 = int(input(\"Enter the first number: \"))\n",
    "number_2 = int(input(\"Enter the second number: \"))\n",
    "number_3 = int(input(\"Enter the third number: \"))\n",
    "\n",
    "# Check which is the largest number and the smallest number, and pass it to the relevant variable.\n",
    "\n",
    "largest_numbers = max(number_1, number_2, number_3)\n",
    "\n",
    "smallest_numbers = min(number_1, number_2, number_3)\n",
    "\n",
    "#Print the result\n",
    "\n",
    "print(\"The largest number is: \", largest_numbers)\n",
    "\n",
    "print(\"The smallest number is: \", smallest_numbers)\n"
   ]
  },
  {
   "cell_type": "markdown",
   "id": "7684dafb",
   "metadata": {},
   "source": [
    "## LAB | Comparison Operator and Condditional Execution"
   ]
  },
  {
   "cell_type": "markdown",
   "id": "e7d5e5ec",
   "metadata": {},
   "source": [
    "- Spathiphyllum, more commonly known as a peace lily or white sail plant, is one of the most popular indoor houseplants that filters out harmful toxins from the air. Some of the toxins that it neutralizes include benzene, formaldehyde, and ammonia.\n",
    "\n",
    "- Imagine that your computer program loves these plants. Whenever it receives an input in the form of the word Spathiphyllum, it involuntarily shouts to the console the following string: \"Spathiphyllum is the best plant ever!\"\n",
    "\n",
    "- Write a program that utilizes the concept of conditional execution, takes a string as input, and:\n",
    "\n",
    "        - prints the sentence \"Yes - Spathiphyllum is the best plant ever!\" to the screen if the inputted string is \"Spathiphyllum\" (upper-case)\n",
    "        - prints \"No, I want a big Spathiphyllum!\" if the inputted string is \"spathiphyllum\" (lower-case)\n",
    "        - prints \"Spathiphyllum! Not [input]!\" otherwise. Note: [input] is the string taken as input."
   ]
  },
  {
   "cell_type": "code",
   "execution_count": 35,
   "id": "421da6fd",
   "metadata": {},
   "outputs": [
    {
     "name": "stdout",
     "output_type": "stream",
     "text": [
      "Enter flower name: Spathiphyllum\n",
      "Yes - Spathiphyllum is the best plant ever! \n"
     ]
    }
   ],
   "source": [
    "name = input(\"Enter flower name: \")\n",
    "\n",
    "if name == \"Spathiphyllum\":\n",
    "    print(\"Yes - Spathiphyllum is the best plant ever! \")\n",
    "elif name == \"spathiphyllum\":\n",
    "    print(\"No, i want a big Spathiphyllum!\")\n",
    "else:\n",
    "    print(\"Spathiphyllum!, Not \", name + \"!\")"
   ]
  },
  {
   "cell_type": "markdown",
   "id": "2070a4b5",
   "metadata": {},
   "source": [
    "## LAB | Essentials of the if-else statement"
   ]
  },
  {
   "cell_type": "markdown",
   "id": "c7b0539c",
   "metadata": {},
   "source": [
    "Once upon a time there was a land – a land of milk and honey, inhabited by happy and prosperous people. The people paid taxes, of course – their happiness had limits. The most important tax, called the Personal Income Tax (PIT for short) had to be paid once a year, and was evaluated using the following rule:\n",
    "\n",
    "- if the citizen's income was not higher than 85,528 thalers, the tax was equal to 18% of the income minus 556 thalers and 2 cents (this was what they called tax relief)\n",
    "- if the income was higher than this amount, the tax was equal to 14,839 thalers and 2 cents, plus 32% of the surplus over 85,528 thalers.\n",
    "\n",
    "Your task is to write a tax calculator.\n",
    "\n",
    "- It should accept one floating-point value: the income.\n",
    "- Next, it should print the calculated tax, rounded to full thalers. There's a function named round() which will do the rounding for you – you'll find it in the skeleton code in the editor.\n",
    "\n",
    "\n",
    "Note: this happy country never returned any money to its citizens. If the calculated tax was less than zero, it would only mean no tax at all (the tax was equal to zero). Take this into consideration during your calculations."
   ]
  },
  {
   "cell_type": "code",
   "execution_count": 37,
   "id": "c05135b6",
   "metadata": {},
   "outputs": [
    {
     "name": "stdout",
     "output_type": "stream",
     "text": [
      "Enter the annual income: 35000\n",
      "The tas is:  5744.0 thalers\n"
     ]
    }
   ],
   "source": [
    "income = float(input(\"Enter the annual income: \"))\n",
    "\n",
    "if income < 85528:\n",
    "    tax = income * 0.18 - 556.02\n",
    "else:\n",
    "    tax = (income - 85528) * 0.32 + 14839.02\n",
    "    \n",
    "if tax < 0.0:\n",
    "    tax = 0.0\n",
    "    \n",
    "tax = round(tax, 0)\n",
    "\n",
    "print(\"The tax is: \", tax, \"thalers\")"
   ]
  },
  {
   "cell_type": "markdown",
   "id": "b62102fa",
   "metadata": {},
   "source": [
    "## LAB | Essentials of the if-elif-else statement"
   ]
  },
  {
   "cell_type": "markdown",
   "id": "47898b26",
   "metadata": {},
   "source": [
    "As you surely know, due to some astronomical reasons, years may be leap or common. The former are 366 days long, while the latter are 365 days long.\n",
    "\n",
    "Since the introduction of the Gregorian calendar (in 1582), the following rule is used to determine the kind of year:\n",
    "\n",
    "- if the year number isn't divisible by four, it's a common year;\n",
    "- otherwise, if the year number isn't divisible by 100, it's a leap year;\n",
    "- otherwise, if the year number isn't divisible by 400, it's a common year;\n",
    "- otherwise, it's a leap year.\n",
    "\n",
    "Look at the code in the editor – it only reads a year number, and needs to be completed with the instructions implementing the test we've just described.\n",
    "\n",
    "The code should output one of two possible messages, which are Leap year or Common year, depending on the value entered.\n",
    "\n",
    "It would be good to verify if the entered year falls into the Gregorian era, and output a warning otherwise: Not within the Gregorian calendar period.\n",
    "\n",
    "Tip: use the != and % operators."
   ]
  },
  {
   "cell_type": "code",
   "execution_count": 38,
   "id": "429b7afd",
   "metadata": {},
   "outputs": [
    {
     "name": "stdout",
     "output_type": "stream",
     "text": [
      "Enter a year: 1589\n",
      "Common Year\n"
     ]
    }
   ],
   "source": [
    "year = int(input(\"Enter a year: \"))\n",
    "\n",
    "if year < 1582:\n",
    "    print(\"Not within the Gregorian calendar period\")\n",
    "else:\n",
    "    if year % 4 !=0:\n",
    "        print(\"Common Year\")\n",
    "    elif year % 100 != 0:\n",
    "        print(\"Leap Year\")\n",
    "    elif year % 400 != 0:\n",
    "        print(\"Common Year\")\n",
    "    else:\n",
    "        print(\"Leap Year\")"
   ]
  },
  {
   "cell_type": "markdown",
   "id": "a7b84c4e",
   "metadata": {},
   "source": [
    " - - - - - - - - - - - - - XxXxXxXxXxXxXxXxXxXxXxXxXxXxXxXxXxXxXxX - - - - - - - - - - - - - "
   ]
  }
 ],
 "metadata": {
  "kernelspec": {
   "display_name": "Python 3 (ipykernel)",
   "language": "python",
   "name": "python3"
  },
  "language_info": {
   "codemirror_mode": {
    "name": "ipython",
    "version": 3
   },
   "file_extension": ".py",
   "mimetype": "text/x-python",
   "name": "python",
   "nbconvert_exporter": "python",
   "pygments_lexer": "ipython3",
   "version": "3.9.16"
  }
 },
 "nbformat": 4,
 "nbformat_minor": 5
}
