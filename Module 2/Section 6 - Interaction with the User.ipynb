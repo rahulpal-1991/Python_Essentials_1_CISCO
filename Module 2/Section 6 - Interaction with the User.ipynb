{
 "cells": [
  {
   "cell_type": "markdown",
   "id": "6b231a32",
   "metadata": {},
   "source": [
    "# I. The input() function"
   ]
  },
  {
   "cell_type": "markdown",
   "id": "55d7be2e",
   "metadata": {},
   "source": [
    "- The input() function takes the input from the user, reads the data entered, and returns the same data to the running program.\n",
    "- The programe can manipulate the data, making the code truly interactive.\n",
    "- Virtually, all programs READ & PROCESS DATA.\n",
    "- A program which do not get a user's input is a deaf program.\n",
    "- The function prompts user to input relevant data in the text field from the console. (Mostly from Keyboard, though its possible to input data using voice or image as well.)\n",
    "- We must assign the input value to a variable, or else the entered data will be lost. "
   ]
  },
  {
   "cell_type": "code",
   "execution_count": 2,
   "id": "dddf9f82",
   "metadata": {},
   "outputs": [
    {
     "name": "stdout",
     "output_type": "stream",
     "text": [
      "Tell me your name, please.\n",
      "Rahul\n",
      "Welcome,  Rahul\n"
     ]
    }
   ],
   "source": [
    "print(\"Tell me your name, please.\")\n",
    "\n",
    "name = input()\n",
    "\n",
    "print(\"Welcome, \", name)"
   ]
  },
  {
   "cell_type": "markdown",
   "id": "f614828b",
   "metadata": {},
   "source": [
    "## II. The input() function with an argument\n",
    "\n",
    "- The input() function can also take arguments.\n",
    "- The function itself can prompt user with the relevant message without the help of print() function like in the above example.\n",
    "- The input() function is invoked with one argument - it's a string containing a message.\n",
    "- The message is displayed on the console before the user is given a chance to enter anything.\n",
    "- This invocation of input() function simplifies the code and makes it clearer."
   ]
  },
  {
   "cell_type": "code",
   "execution_count": 3,
   "id": "3733aabb",
   "metadata": {},
   "outputs": [
    {
     "name": "stdout",
     "output_type": "stream",
     "text": [
      "Tell me your name, Please...Rahul\n",
      "Welcome,  Rahul\n"
     ]
    }
   ],
   "source": [
    "name = input(\"Tell me your name, Please...\")\n",
    "print(\"Welcome, \", name)"
   ]
  },
  {
   "cell_type": "markdown",
   "id": "2c953988",
   "metadata": {},
   "source": [
    "## III. The result of the input() function\n",
    "\n",
    "- The result of the input function is a STRING.\n",
    "- The string can contain all the characters available on the keyboard, It cannot be an integer or a float.\n",
    "- We should not use it as an argument of any arithmatic operation, like, squaring it, dividing it with anything or divide anything by it.\n"
   ]
  },
  {
   "cell_type": "code",
   "execution_count": 5,
   "id": "06973276",
   "metadata": {},
   "outputs": [
    {
     "name": "stdout",
     "output_type": "stream",
     "text": [
      "Enter a number: 5\n"
     ]
    },
    {
     "ename": "TypeError",
     "evalue": "unsupported operand type(s) for ** or pow(): 'str' and 'float'",
     "output_type": "error",
     "traceback": [
      "\u001b[1;31m---------------------------------------------------------------------------\u001b[0m",
      "\u001b[1;31mTypeError\u001b[0m                                 Traceback (most recent call last)",
      "Cell \u001b[1;32mIn[5], line 2\u001b[0m\n\u001b[0;32m      1\u001b[0m anything \u001b[38;5;241m=\u001b[39m \u001b[38;5;28minput\u001b[39m(\u001b[38;5;124m\"\u001b[39m\u001b[38;5;124mEnter a number: \u001b[39m\u001b[38;5;124m\"\u001b[39m)\n\u001b[1;32m----> 2\u001b[0m something \u001b[38;5;241m=\u001b[39m \u001b[43manything\u001b[49m\u001b[43m \u001b[49m\u001b[38;5;241;43m*\u001b[39;49m\u001b[38;5;241;43m*\u001b[39;49m\u001b[43m \u001b[49m\u001b[38;5;241;43m2.0\u001b[39;49m\n\u001b[0;32m      3\u001b[0m \u001b[38;5;28mprint\u001b[39m(anything, \u001b[38;5;124m\"\u001b[39m\u001b[38;5;124mto the power of 2 is\u001b[39m\u001b[38;5;124m\"\u001b[39m, something)\n",
      "\u001b[1;31mTypeError\u001b[0m: unsupported operand type(s) for ** or pow(): 'str' and 'float'"
     ]
    }
   ],
   "source": [
    "anything = input(\"Enter a number: \")\n",
    "something = anything ** 2.0\n",
    "print(anything, \"to the power of 2 is\", something)"
   ]
  },
  {
   "cell_type": "markdown",
   "id": "9fd8b3f7",
   "metadata": {},
   "source": [
    "## IV. Prohibited Operations with input() function\n",
    "\n",
    "- Check the above error Python has displayed.\n",
    "- This is obvious, as even in the mathematical sense, a string cannot be raised to a power of 2 or any other integer/float.\n",
    "- Mathematical operations are prohibited with input() function\n",
    "- Yes, there is a SOLUTION FOR IT, discussed later in this notebook."
   ]
  },
  {
   "cell_type": "markdown",
   "id": "caabeda8",
   "metadata": {},
   "source": [
    "## V. Type Casting (type conversion)\n",
    "\n",
    "- We can specify the type of data to input() function if we want the user to input a particular datatype.\n",
    "- Functions we can use to change the data type.\n",
    "        1. int() to convert into integer\n",
    "        2. float() to convert into float\n",
    "        3. bool() to convert into boolean\n",
    "        4. list() to convert into list\n",
    "        5. tuple() to convert into a tuple\n",
    "        6. set() to convert into a set\n",
    "\n",
    "- The user has to make sure to enter the datatype as asked on the console, and coder should make it evident with the input() argument.\n",
    "- Due to type casting, one does not has to use any variable separately as an intermediate storage when invoking input() function.\n"
   ]
  },
  {
   "cell_type": "code",
   "execution_count": 6,
   "id": "66e6919f",
   "metadata": {},
   "outputs": [
    {
     "name": "stdout",
     "output_type": "stream",
     "text": [
      "Enter a number: 5\n",
      "Enter the power: 2\n",
      "5.0  raised to  2.0  is  25.0\n"
     ]
    }
   ],
   "source": [
    "a_number = float(input(\"Enter a number: \"))\n",
    "raised_to = float(input(\"Enter the power: \"))\n",
    "power_of = a_number ** raised_to\n",
    "\n",
    "print(a_number, \" raised to \", raised_to, \" is \", power_of)\n"
   ]
  },
  {
   "cell_type": "code",
   "execution_count": 9,
   "id": "f070a351",
   "metadata": {},
   "outputs": [
    {
     "name": "stdout",
     "output_type": "stream",
     "text": [
      "Program to find the hypotenuse. Enter the length of the sides\n",
      "Enter side 1 : 3\n",
      "Enter side 2 : 4\n",
      "The hypotenuse with sides  3.0  and  4.0 is 5.0\n"
     ]
    }
   ],
   "source": [
    "# Finding hypotenuse\n",
    "\n",
    "print(\"Program to find the hypotenuse. Enter the length of the sides\")\n",
    "\n",
    "side_1 = float(input(\"Enter side 1 : \"))\n",
    "side_2 = float(input(\"Enter side 2 : \"))\n",
    "\n",
    "hypotenuse = (side_1 ** 2 + side_2 ** 2 ) ** 0.5\n",
    "\n",
    "print(\"The hypotenuse with sides \", side_1, \" and \", side_2, \"is\" , hypotenuse)"
   ]
  },
  {
   "cell_type": "markdown",
   "id": "d5db3bfb",
   "metadata": {},
   "source": [
    "## VI. String Operators\n",
    "\n",
    "###### Concatenation Operator ( + )\n",
    "- It simply concatenates two strings into one.\n",
    "- It is left-sided binding.\n",
    "- It is not commutative like arithmetic + operator.\n",
    "- We have to make sure that both its arguments are strings (We cannot mix types.)\n",
    "\n",
    "###### Replicaiton Operator ( * )\n",
    "\n",
    "- When applied to a string and number, * becomes replication operator.\n",
    "- It is commutative.\n",
    "- number less than zero, or zero produces empty string.\n",
    "- We can make artwork using * !!!!!!!\n",
    "\n"
   ]
  },
  {
   "cell_type": "code",
   "execution_count": 13,
   "id": "ebc40055",
   "metadata": {},
   "outputs": [
    {
     "name": "stdout",
     "output_type": "stream",
     "text": [
      "Tell me your first name, Please : Rahul\n",
      "Tell me your last name, Please : Pal\n",
      "Thank You!\n",
      "\n",
      "Your name is Rahul Pal!\n"
     ]
    }
   ],
   "source": [
    "fname = input(\"Tell me your first name, Please : \")\n",
    "lname = input(\"Tell me your last name, Please : \")\n",
    "\n",
    "print(\"Thank You!\")\n",
    "\n",
    "print(\"\\nYour name is \" + fname + \" \" + lname + \"!\")"
   ]
  },
  {
   "cell_type": "code",
   "execution_count": 18,
   "id": "4a54223b",
   "metadata": {},
   "outputs": [
    {
     "name": "stdout",
     "output_type": "stream",
     "text": [
      "+----------+\n",
      "|          |\n",
      "|          |\n",
      "|          |\n",
      "|          |\n",
      "|          |\n",
      "+----------+\n"
     ]
    }
   ],
   "source": [
    "print(\"+\" + 10*\"-\" + \"+\")\n",
    "print((\"|\" + 10*\" \" + \"|\\n\")*5, end = \"\" )\n",
    "print(\"+\" + 10*\"-\" + \"+\")"
   ]
  },
  {
   "cell_type": "markdown",
   "id": "2cf8e55a",
   "metadata": {},
   "source": [
    "## LAB | Operators & Expressions"
   ]
  },
  {
   "cell_type": "markdown",
   "id": "c1a04b10",
   "metadata": {},
   "source": [
    "Evaluate the following expression.\n",
    "\n"
   ]
  },
  {
   "attachments": {
    "cisco.jpg": {
     "image/jpeg": "[encoded data removed]"
    }
   },
   "cell_type": "markdown",
   "id": "8a072c27",
   "metadata": {},
   "source": [
    "![cisco.jpg](attachment:cisco.jpg)"
   ]
  },
  {
   "cell_type": "code",
   "execution_count": 19,
   "id": "5a391855",
   "metadata": {},
   "outputs": [
    {
     "name": "stdout",
     "output_type": "stream",
     "text": [
      "Enter value for x: 10\n",
      "y = 0.09901951266867294\n"
     ]
    }
   ],
   "source": [
    "x = float(input(\"Enter value for x: \"))\n",
    "y = 1./(x + 1./(x + 1./(x + 1./x)))\n",
    "print(\"y =\", y)\n",
    "\n"
   ]
  },
  {
   "cell_type": "markdown",
   "id": "4e6d8e95",
   "metadata": {},
   "source": [
    "##  LAB | Operators and expressions – 2\n"
   ]
  },
  {
   "cell_type": "markdown",
   "id": "a5a5549e",
   "metadata": {},
   "source": [
    "Our task is to prepare a simple code able to evaluate the end time of a period of time, given as a number of minutes (it could be arbitrarily large). The start time is given as a pair of hours (0..23) and minutes (0..59). The result has to be printed to the console.\n",
    "\n",
    "For example, if an event starts at 12:17 and lasts 59 minutes, it will end at 13:16."
   ]
  },
  {
   "cell_type": "code",
   "execution_count": 21,
   "id": "f8a6ac7b",
   "metadata": {},
   "outputs": [
    {
     "name": "stdout",
     "output_type": "stream",
     "text": [
      "Starting time (hours): 10\n",
      "Starting time (minutes): 15\n",
      "Event duration (minutes): 15\n",
      "10:30\n"
     ]
    }
   ],
   "source": [
    "hour = int(input(\"Starting time (hours): \"))\n",
    "mins = int(input(\"Starting time (minutes): \"))\n",
    "dura = int(input(\"Event duration (minutes): \"))\n",
    "\n",
    "# find a total of all minutes\n",
    "mins = mins + dura \n",
    "\n",
    "# find a number of hours hidden in minutes and update the hour\n",
    "hour = hour + mins // 60 \n",
    "\n",
    "# correct minutes to fall in the (0..59) range\n",
    "mins = mins % 60 \n",
    "\n",
    "# correct hours to fall in the (0..23) range\n",
    "hour = hour % 24 \n",
    "\n",
    "print(hour, \":\", mins, sep='')\n",
    "\n"
   ]
  },
  {
   "cell_type": "markdown",
   "id": "85dee56e",
   "metadata": {},
   "source": [
    "## SUMMARY"
   ]
  },
  {
   "cell_type": "markdown",
   "id": "528b022b",
   "metadata": {},
   "source": [
    "1. The print() function sends data to the console, while the input() function gets data from the console.\n",
    "\n",
    "2. The input() function comes with an optional parameter: the prompt string. It allows you to write a message before the user input,\n",
    "    \n",
    "3. When the input() function is called, the program's flow is stopped, the prompt symbol keeps blinking (it prompts the user to take action when the console is switched to input mode) until the user has entered an input and/or pressed the Enter key.\n",
    "\n",
    "4. The result of the input() function is a string. You can add strings to each other using the concatenation (+) operator.\n",
    "\n",
    "5. You can also multiply (* ‒ replication) strings."
   ]
  },
  {
   "cell_type": "code",
   "execution_count": null,
   "id": "b160afd1",
   "metadata": {},
   "outputs": [],
   "source": []
  }
 ],
 "metadata": {
  "kernelspec": {
   "display_name": "Python 3 (ipykernel)",
   "language": "python",
   "name": "python3"
  },
  "language_info": {
   "codemirror_mode": {
    "name": "ipython",
    "version": 3
   },
   "file_extension": ".py",
   "mimetype": "text/x-python",
   "name": "python",
   "nbconvert_exporter": "python",
   "pygments_lexer": "ipython3",
   "version": "3.9.16"
  }
 },
 "nbformat": 4,
 "nbformat_minor": 5
}
