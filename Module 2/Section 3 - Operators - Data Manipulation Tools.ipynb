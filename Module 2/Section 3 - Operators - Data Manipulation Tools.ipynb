{
 "cells": [
  {
   "cell_type": "markdown",
   "id": "c54ef2e2",
   "metadata": {},
   "source": [
    "# Operators - Data Manipulation Tools"
   ]
  },
  {
   "cell_type": "markdown",
   "id": "eb09a995",
   "metadata": {},
   "source": [
    "## Basic Operators"
   ]
  },
  {
   "cell_type": "markdown",
   "id": "c817714d",
   "metadata": {},
   "source": [
    "- An operator is a symbol of the programming language which is able to operate on the values.\n",
    "- Most widely recognizable basic operators (arithmetic) operations\n",
    "        Addition\n",
    "        Subtraction\n",
    "        Multiplication\n",
    "        Division\n",
    "        Floor Division\n",
    "        Remainder (Modulo)\n",
    "        Exponentiation\n",
    "    "
   ]
  },
  {
   "cell_type": "markdown",
   "id": "afa238a1",
   "metadata": {},
   "source": [
    "##### Addition Operator ( + )\n",
    "- The additional operator in Python is completely in line with mathematical standards\n"
   ]
  },
  {
   "cell_type": "code",
   "execution_count": 1,
   "id": "058985d1",
   "metadata": {},
   "outputs": [
    {
     "name": "stdout",
     "output_type": "stream",
     "text": [
      "12\n"
     ]
    }
   ],
   "source": [
    "print(4+8)"
   ]
  },
  {
   "cell_type": "markdown",
   "id": "053d626a",
   "metadata": {},
   "source": [
    "##### Subtraction Operator ( - )\n",
    "\n",
    "- Subtraction operator can be used in two ways - \n",
    "        1. For mathematical operations (binary operator)\n",
    "        2. It can change the sign of a number. (unary operator)\n"
   ]
  },
  {
   "cell_type": "code",
   "execution_count": 6,
   "id": "33170c4e",
   "metadata": {},
   "outputs": [
    {
     "name": "stdout",
     "output_type": "stream",
     "text": [
      "As a binary operator:  5\n",
      "As a Unary operator:  -4\n"
     ]
    }
   ],
   "source": [
    "print(\"As a binary operator: \", 45-40)\n",
    "\n",
    "print(\"As a Unary operator: \", -4)"
   ]
  },
  {
   "cell_type": "markdown",
   "id": "5e1c2802",
   "metadata": {},
   "source": [
    "##### Multiplication Operator ( * )\n",
    "\n",
    "- Multiplication Operator works completely in line with the mathematical standards"
   ]
  },
  {
   "cell_type": "code",
   "execution_count": 7,
   "id": "c25a33fd",
   "metadata": {},
   "outputs": [
    {
     "name": "stdout",
     "output_type": "stream",
     "text": [
      "50\n"
     ]
    }
   ],
   "source": [
    "print(10*5)"
   ]
  },
  {
   "cell_type": "markdown",
   "id": "b601e5ff",
   "metadata": {},
   "source": [
    "##### Division Operator ( / )\n",
    "\n",
    "- The value before the slash is a Dividend\n",
    "- The value after the slash is a divisor\n",
    "- The result produced by the division operator is always a float\n",
    "\n",
    "###### How not to divide\n",
    "\n",
    "- Don't perform any division by zero\n"
   ]
  },
  {
   "cell_type": "code",
   "execution_count": 9,
   "id": "32fc53fc",
   "metadata": {},
   "outputs": [
    {
     "name": "stdout",
     "output_type": "stream",
     "text": [
      "2.0\n"
     ]
    }
   ],
   "source": [
    "print(6/3)"
   ]
  },
  {
   "cell_type": "markdown",
   "id": "160447c3",
   "metadata": {},
   "source": [
    "##### Floor Division or Integer Division ( // )\n",
    "\n",
    "- Double slash is an integer division\n",
    "- It returns the integer as a result (The results are always rounded )\n",
    "- The rounding oes towards the lesser integer value.(1.6 will be rounded to 1)"
   ]
  },
  {
   "cell_type": "code",
   "execution_count": 10,
   "id": "5b626f5e",
   "metadata": {},
   "outputs": [
    {
     "name": "stdout",
     "output_type": "stream",
     "text": [
      "2\n"
     ]
    }
   ],
   "source": [
    "print(6//3)"
   ]
  },
  {
   "cell_type": "code",
   "execution_count": 11,
   "id": "b13ce572",
   "metadata": {},
   "outputs": [
    {
     "name": "stdout",
     "output_type": "stream",
     "text": [
      "1\n"
     ]
    }
   ],
   "source": [
    "print(6//4)"
   ]
  },
  {
   "cell_type": "markdown",
   "id": "7df63757",
   "metadata": {},
   "source": [
    "##### Remainder / Modulo ( % )\n",
    "\n",
    "\n",
    "- Modulo gives the remainder left after the integer division.\n"
   ]
  },
  {
   "cell_type": "code",
   "execution_count": 12,
   "id": "ca86bf16",
   "metadata": {},
   "outputs": [
    {
     "name": "stdout",
     "output_type": "stream",
     "text": [
      "2\n"
     ]
    }
   ],
   "source": [
    "print(14%4)"
   ]
  },
  {
   "cell_type": "markdown",
   "id": "b9a14243",
   "metadata": {},
   "source": [
    "##### Exponentiation ( ** )\n",
    "\n",
    "- Exponentiation operator is used to raise the power of a numerical to certain power of our choice\n",
    "- If both the arguments are integer, then the result will be integer.\n",
    "- If both the arguments are float, then the result will be float. "
   ]
  },
  {
   "cell_type": "code",
   "execution_count": 13,
   "id": "0312f92e",
   "metadata": {},
   "outputs": [
    {
     "name": "stdout",
     "output_type": "stream",
     "text": [
      "8\n"
     ]
    }
   ],
   "source": [
    "print(2**3)"
   ]
  },
  {
   "cell_type": "markdown",
   "id": "3b8fc800",
   "metadata": {},
   "source": [
    "## Operators and their priorities\n"
   ]
  },
  {
   "cell_type": "markdown",
   "id": "25d8937e",
   "metadata": {},
   "source": [
    "Priority 1 : **\n",
    "\n",
    "Priority 2 : +, - : Unary\n",
    "\n",
    "Priority 3 : *, /, //, %\n",
    "\n",
    "Priority 4 : +, - : Binary "
   ]
  },
  {
   "cell_type": "markdown",
   "id": "aea09498",
   "metadata": {},
   "source": [
    "- Subexpressions in parantheses are always calculated first.\n",
    "- Most Python operators have left-side binding, i.e., the calculation of the expression is conducted from left to right.\n",
    "- The exponentiation operator uses right-sided binding."
   ]
  },
  {
   "cell_type": "code",
   "execution_count": 14,
   "id": "815e275f",
   "metadata": {},
   "outputs": [
    {
     "name": "stdout",
     "output_type": "stream",
     "text": [
      "1\n"
     ]
    }
   ],
   "source": [
    "print(2*3%5)"
   ]
  },
  {
   "cell_type": "code",
   "execution_count": 15,
   "id": "b04b31a9",
   "metadata": {},
   "outputs": [
    {
     "name": "stdout",
     "output_type": "stream",
     "text": [
      "10.0\n"
     ]
    }
   ],
   "source": [
    "print((5 * ((25 % 13) + 100) / (2 * 13)) // 2)\n",
    "    "
   ]
  },
  {
   "cell_type": "markdown",
   "id": "adac14f2",
   "metadata": {},
   "source": [
    "## Summary"
   ]
  },
  {
   "cell_type": "markdown",
   "id": "cb77fc6d",
   "metadata": {},
   "source": [
    "1. An expression is a combination of values (or variables, operators, calls to functions ‒ you will learn about them soon) which evaluates to a certain value, e.g., 1 + 2.\n",
    "\n",
    "2. Operators are special symbols or keywords which are able to operate on the values and perform (mathematical) operations, e.g., the * operator multiplies two values: x * y.\n",
    "\n",
    "3. Arithmetic operators in Python: + (addition), - (subtraction), * (multiplication), / (classic division ‒ always returns a float), % (modulus ‒ divides left operand by right operand and returns the remainder of the operation, e.g., 5 % 2 = 1), ** (exponentiation ‒ left operand raised to the power of right operand, e.g., 2 ** 3 = 2 * 2 * 2 = 8), // (floor/integer division ‒ returns a number resulting from division, but rounded down to the nearest whole number, e.g., 3 // 2.0 = 1.0)\n",
    "\n",
    "4. A unary operator is an operator with only one operand, e.g., -1, or +3.\n",
    "\n",
    "5. A binary operator is an operator with two operands, e.g., 4 + 5, or 12 % 5.\n",
    "\n",
    "6. Some operators act before others - the hierarchy of priorities:\n",
    "\n",
    ">> the ** operator (exponentiation) has the highest priority;\n",
    "then the unary + and - (note: a unary operator to the right of the exponentiation operator binds more strongly, for example 4 ** -1 equals 0.25)\n",
    "then: *, /, and %,\n",
    "and finally, the lowest priority: binary + and -.\n",
    "\n",
    "7. Subexpressions in parentheses are always calculated first, e.g., 15 - 1 * (5 * (1 + 2)) = 0.\n",
    "\n",
    "8. The exponentiation operator uses right-sided binding, e.g., 2 ** 2 ** 3 = 256.\n",
    "\n"
   ]
  },
  {
   "cell_type": "markdown",
   "id": "93da8c44",
   "metadata": {},
   "source": [
    "                        --______________--______________--______________--______________--"
   ]
  }
 ],
 "metadata": {
  "kernelspec": {
   "display_name": "Python 3 (ipykernel)",
   "language": "python",
   "name": "python3"
  },
  "language_info": {
   "codemirror_mode": {
    "name": "ipython",
    "version": 3
   },
   "file_extension": ".py",
   "mimetype": "text/x-python",
   "name": "python",
   "nbconvert_exporter": "python",
   "pygments_lexer": "ipython3",
   "version": "3.9.13"
  }
 },
 "nbformat": 4,
 "nbformat_minor": 5
}
