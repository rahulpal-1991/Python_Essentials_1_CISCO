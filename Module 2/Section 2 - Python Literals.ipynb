{
 "cells": [
  {
   "cell_type": "markdown",
   "id": "c28884c4",
   "metadata": {},
   "source": [
    "## Python Literals"
   ]
  },
  {
   "cell_type": "markdown",
   "id": "829790ce",
   "metadata": {},
   "source": [
    "### Introduction"
   ]
  },
  {
   "cell_type": "markdown",
   "id": "a3ef0e96",
   "metadata": {},
   "source": [
    "- A literal is data, whose values are determined by the literal itself.\n",
    "- Literals in Python is defined as the raw data assigned to variables or constants while programming.\n",
    "- Generally, literals are a notation for representing a fixed value in source code.\n",
    "- We use literals to \" encode data and put them into our code.\""
   ]
  },
  {
   "cell_type": "markdown",
   "id": "99697c17",
   "metadata": {},
   "source": [
    "###### Types of literals in Python\n",
    "\n",
    "1. Numeric Literals\n",
    "2. Strings Literals\n",
    "3. Boolean Literals\n",
    "4. Literal Collections\n",
    "5. Special Literals"
   ]
  },
  {
   "cell_type": "markdown",
   "id": "7fb7e202",
   "metadata": {},
   "source": [
    "## Numeric Literals\n",
    "\n",
    "- Computers use binary system to store numbers, and perform any operations on them.\n",
    "- The numbers handled by modern computers are of two types.\n",
    "    1. Integers\n",
    "    2. Floats (floating-point)\n",
    "- The distinction is important as the computer memory stores these values in significantly different manner from each other.\n",
    "- TYPE: The characteristicsof the numeric value which determines its kind, range, and application.\n",
    "- If we encode a literal and place it inside a Python Code, then the form of literal determines the type Python will store it in the memory."
   ]
  },
  {
   "cell_type": "markdown",
   "id": "ddeaae38",
   "metadata": {},
   "source": [
    "#### I. Integers"
   ]
  },
  {
   "cell_type": "markdown",
   "id": "cb557c10",
   "metadata": {},
   "source": [
    "- Python recognizes integers simply by the digits we write on paper with pencil. \n",
    "- Python doesnt accept any other character within those digits, except underscores.\n",
    "    e.g.: 111111 is acceptable, 1_11_111 is acceptable, but 1,11,111 is not acceptable.\n",
    "- We code negative numbers by just adding the minus sign as we do it usually outside the computer world. ( -111111 or -1_11_11)"
   ]
  },
  {
   "cell_type": "markdown",
   "id": "a9ecb229",
   "metadata": {},
   "source": [
    "####  Octal and Hexadecimal numbers\n",
    "\n",
    "###### Octal Numbers\n",
    "\n",
    "- A number system which has its base as 'eight' is called an Octal number system.\n",
    "- It uses numbers from 0 to 7.\n",
    "- Octal is a convenient way to abbreviate binary numbers.\n",
    "- If an integer is preceded by '0o' or '0O', then it will be treated as an octal value.\n",
    "\n",
    "###### Hexadecimal Numbers\n",
    "\n",
    "- A number system which has its base as '16' is called an Hexadecimal number system.\n",
    "- It uses numbers from 0 to 15.\n",
    "- It is often used to refer to memory addresses. \n",
    "- It can be used during the debugging stage of writing a computer program and to represent numbers stored in a CPU's registers or in main memory.\n",
    "- If an integer is preceded by '0x' or '0X', then it will be treated as a hexadecimal value.`"
   ]
  },
  {
   "cell_type": "code",
   "execution_count": 5,
   "id": "f0b51597",
   "metadata": {},
   "outputs": [
    {
     "name": "stdout",
     "output_type": "stream",
     "text": [
      "83\n",
      "593\n"
     ]
    }
   ],
   "source": [
    "#Example : Octal number\n",
    "\n",
    "print(0o123)\n",
    "\n",
    "#Example : Hexadecimal number\n",
    "print(0x251)"
   ]
  },
  {
   "cell_type": "markdown",
   "id": "914d1c43",
   "metadata": {},
   "source": [
    "#### II. Floats\n"
   ]
  },
  {
   "cell_type": "markdown",
   "id": "26d959fc",
   "metadata": {},
   "source": [
    "- Floating point numbers are decimal values or fractional numbers like 133.5, 2897.11, and 3571.213.\n",
    "- Don't use commas or anything anywhere a float.\n",
    "- We can omit zero when it is the only digit before or after the decimal point.\n",
    "- The decimal point is essential for recognizing floating-point numbers in Python. \n",
    "        e.g.: 4 is an integer whereas 4.0 floating-point integer.\n",
    "- We can also use the letter 'e' (ten to the power of)  to make a float in Python (scientific notation)\n",
    "        e.g.: 3e8 = 3*10^8  , anything after e should be integer, while base can be an integer or a float\n"
   ]
  },
  {
   "cell_type": "code",
   "execution_count": 7,
   "id": "ccb6ebf7",
   "metadata": {},
   "outputs": [
    {
     "data": {
      "text/plain": [
       "6.62607e-34"
      ]
     },
     "execution_count": 7,
     "metadata": {},
     "output_type": "execute_result"
    }
   ],
   "source": [
    "# Plank's constant (h) has the value of 6.62607 * 10^-34\n",
    "\n",
    "6.62607e-34"
   ]
  },
  {
   "cell_type": "code",
   "execution_count": 8,
   "id": "5ae930ca",
   "metadata": {},
   "outputs": [
    {
     "name": "stdout",
     "output_type": "stream",
     "text": [
      "1e-22\n"
     ]
    }
   ],
   "source": [
    "# running a big float literal in python\n",
    "\n",
    "print(0.0000000000000000000001)"
   ]
  },
  {
   "cell_type": "markdown",
   "id": "89957a8e",
   "metadata": {},
   "source": [
    "Note that, in above example, Python has chosen the more economical form of the number's presentation. \n",
    "- we must take this into consideration when creating literals."
   ]
  },
  {
   "cell_type": "markdown",
   "id": "12ecbfdb",
   "metadata": {},
   "source": [
    "#### III. Strings\n",
    "\n",
    "- Strings are used when we need to process text, and not numbers.\n",
    "- Strings need quotes just the way floats needs the decimal points.\n",
    "- We have seen already something about strings previously.\n",
    "- We can use single quote or double quotes to delimit the string.\n",
    "- Remember, if we start with single quote, then we must also end it with the single quote. Same scenes with double quote also. \n",
    "- A string can be empty.\n",
    "\n",
    "###### What if we have to print a string with quotes in the output?\n",
    "\n",
    "- Remember the escape character (backslash)\n",
    "- We have to use escape character before and after the string we want to be in quotes and then double quoteon both sides.\n",
    "        e.g. print('I like \\\"Monty Python\\\"')\n",
    "    \n"
   ]
  },
  {
   "cell_type": "code",
   "execution_count": 9,
   "id": "20840b88",
   "metadata": {},
   "outputs": [
    {
     "name": "stdout",
     "output_type": "stream",
     "text": [
      "I like \"Monty Python\"\n"
     ]
    }
   ],
   "source": [
    "print('I like \\\"Monty Python\\\"')"
   ]
  },
  {
   "cell_type": "code",
   "execution_count": 10,
   "id": "6cc19094",
   "metadata": {},
   "outputs": [
    {
     "name": "stdout",
     "output_type": "stream",
     "text": [
      "I'm Rahul Pal\n"
     ]
    }
   ],
   "source": [
    "print('I\\'m Rahul Pal')"
   ]
  },
  {
   "cell_type": "markdown",
   "id": "a123a05e",
   "metadata": {},
   "source": [
    "Notice above code, we used \\' and insert apostrophe"
   ]
  },
  {
   "cell_type": "markdown",
   "id": "eb440788",
   "metadata": {},
   "source": [
    "Note: Backlash is a very powerful tool "
   ]
  },
  {
   "cell_type": "markdown",
   "id": "924bb024",
   "metadata": {},
   "source": [
    "#### IV. Boolean Values\n",
    "\n",
    "- In Python, Boolean literals are used to represent truth values, which can either be True or False.\n",
    "- These values are often used in conditional statements, loops, and other programming constructs that rely on logical operations.\n",
    "- True and False are denoted as 1 and 0 respectively.\n",
    "- Boolean literals in Python are case-sensitive, meaning that the values \"True\" and \"False\" must be capitalized to be recognized as Boolean literals. "
   ]
  },
  {
   "cell_type": "code",
   "execution_count": 12,
   "id": "26b6dd04",
   "metadata": {},
   "outputs": [
    {
     "name": "stdout",
     "output_type": "stream",
     "text": [
      "True\n",
      "False\n"
     ]
    }
   ],
   "source": [
    "print(True > False)\n",
    "print(True < False)"
   ]
  },
  {
   "cell_type": "code",
   "execution_count": 13,
   "id": "7db4f956",
   "metadata": {},
   "outputs": [
    {
     "name": "stdout",
     "output_type": "stream",
     "text": [
      "\"I'm\"\n",
      "\"\"learning\"\"\n",
      "\"\"\"Python\"\"\"\n"
     ]
    }
   ],
   "source": [
    "print('\\\"I\\'m\"\\n\\\"\"learning\"\"\\n\"\"\"Python\"\"\"')"
   ]
  },
  {
   "cell_type": "markdown",
   "id": "7f6d5710",
   "metadata": {},
   "source": [
    "## Summary\n",
    "\n",
    "1. Literals are notations for representing some fixed values in code. Python has various types of literals - for example, a literal can be a number (numeric literals, e.g., 123), or a string (string literals, e.g., \"I am a literal.\").\n",
    "\n",
    "2. The binary system is a system of numbers that employs 2 as the base. Therefore, a binary number is made up of 0s and 1s only, e.g., 1010 is 10 in decimal.\n",
    "\n",
    "Octal and hexadecimal numeration systems, similarly, employ 8 and 16 as their bases respectively. The hexadecimal system uses the decimal numbers and six extra letters.\n",
    "\n",
    "\n",
    "3. Integers (or simply ints) are one of the numerical types supported by Python. They are numbers written without a fractional component, e.g., 256, or -1 (negative integers).\n",
    "\n",
    "4. Floating-point numbers (or simply floats) are another one of the numerical types supported by Python. They are numbers that contain (or are able to contain) a fractional component, e.g., 1.27.\n",
    "\n",
    "5. To encode an apostrophe or a quote inside a string, you can either use the escape character, e.g., 'I\\'m happy.', or open and close the string using an opposite set of symbols to the ones you wish to encode, e.g., \"I'm happy.\" to encode an apostrophe, and 'He said \"Python\", not \"typhoon\"' to encode a (double) quote.\n",
    "\n",
    "6. Boolean values are the two constant objects True and False used to represent truth values (in numeric contexts 1 is True, while 0 is False.\n",
    "\n"
   ]
  },
  {
   "cell_type": "markdown",
   "id": "7708dea4",
   "metadata": {},
   "source": [
    "___________________________________________________________________________________________________________________________________"
   ]
  }
 ],
 "metadata": {
  "kernelspec": {
   "display_name": "Python 3 (ipykernel)",
   "language": "python",
   "name": "python3"
  },
  "language_info": {
   "codemirror_mode": {
    "name": "ipython",
    "version": 3
   },
   "file_extension": ".py",
   "mimetype": "text/x-python",
   "name": "python",
   "nbconvert_exporter": "python",
   "pygments_lexer": "ipython3",
   "version": "3.9.13"
  }
 },
 "nbformat": 4,
 "nbformat_minor": 5
}
