{
 "cells": [
  {
   "cell_type": "markdown",
   "id": "64e926e4",
   "metadata": {},
   "source": [
    "# VARIABLES"
   ]
  },
  {
   "cell_type": "markdown",
   "id": "f526edf7",
   "metadata": {},
   "source": [
    "- We can imagine 'variables' as a data-shaped boxes.\n",
    "- Python offers special \"boxes\" or \"containers\" to store some values which we may use it over and over again as desired. These boxes or containers are called Variables.\n",
    "- The name itself suggests that the content of these containers can be varied in almost any way.\n",
    "- Every Python variables has \n",
    "        1. Name\n",
    "        2. Value\n",
    "- As a developer, we must decide how many & which variables to use in our programs and also we must name them."
   ]
  },
  {
   "cell_type": "markdown",
   "id": "e9f4f777",
   "metadata": {},
   "source": [
    "#### Rules for naming a Variable\n",
    "\n",
    "1. Variable name can be composed of upper-case characters, lower-case characters, digits & underscores, including their combinations.\n",
    "\n",
    "2. The name of variable must begin with a letter.\n",
    "\n",
    "3. Undercore is treated as a letter.\n",
    "\n",
    "4. The upper-case and lower-case characters are treated differently in Python.\n",
    "\n",
    "5. We should not use any reserved Keywords in Python as a variable name.\n"
   ]
  },
  {
   "cell_type": "markdown",
   "id": "4d82609d",
   "metadata": {},
   "source": [
    "#### PEP 8 style guide for Python code recommendations to name variables and functions.\n",
    "\n",
    "- Variable names should be lowercase, with words separated by underscores to improve readability (e.g., var, my_variable)\n",
    "- Function names follow the same convention as variable names (e.g., fun, my_function)\n",
    "- It's also possible to use mixed case (e.g., myVariable), but only in contexts where that's already the prevailing style, to retain backward compatibility with the adopted convention.\n"
   ]
  },
  {
   "cell_type": "markdown",
   "id": "9c66259f",
   "metadata": {},
   "source": [
    "#### Keyword\n",
    "\n",
    "- Keywords are special reserved words in Python that has specific purpose, and cannot be used otherwise.\n",
    "- The meaning of those reserved words are pre-defined and must not be changed in any way.\n",
    "- A variable name cannot be a keyword.\n",
    "\n"
   ]
  },
  {
   "cell_type": "markdown",
   "id": "f51d4aa2",
   "metadata": {},
   "source": [
    "##### The list of keywords in Python"
   ]
  },
  {
   "cell_type": "code",
   "execution_count": 1,
   "id": "52ddbc3d",
   "metadata": {},
   "outputs": [
    {
     "name": "stdout",
     "output_type": "stream",
     "text": [
      "No. of keywords present in current version : 36\n",
      "['False', 'None', 'True', '__peg_parser__', 'and', 'as', 'assert', 'async', 'await', 'break', 'class', 'continue', 'def', 'del', 'elif', 'else', 'except', 'finally', 'for', 'from', 'global', 'if', 'import', 'in', 'is', 'lambda', 'nonlocal', 'not', 'or', 'pass', 'raise', 'return', 'try', 'while', 'with', 'yield']\n"
     ]
    }
   ],
   "source": [
    "\n",
    "import keyword \n",
    "list = keyword.kwlist \n",
    "print(\"No. of keywords present in current version :\", \n",
    "len(list)) \n",
    "print(list) "
   ]
  },
  {
   "cell_type": "markdown",
   "id": "1ff02fca",
   "metadata": {},
   "source": [
    "#### Creating a Variable\n",
    "\n",
    "- We don't need to declare a variable in Python.\n",
    "- A variable is automatically created when we assingn a value to a non-existent variable.\n",
    "- Syntax:\n",
    "        variable_01 = value\n",
    "        \n",
    "        \n"
   ]
  },
  {
   "cell_type": "code",
   "execution_count": 4,
   "id": "4595af3d",
   "metadata": {},
   "outputs": [
    {
     "name": "stdout",
     "output_type": "stream",
     "text": [
      "PCEP\n"
     ]
    }
   ],
   "source": [
    "var = (\"PCEP\")\n",
    "\n",
    "print(var)"
   ]
  },
  {
   "cell_type": "markdown",
   "id": "7e6d3ac2",
   "metadata": {},
   "source": [
    "#### How to use a variable\n",
    "\n",
    "- We can declare as many variables as we want.\n",
    "- we can use variables in operations, or just use print() command to print those variables.\n",
    "- we can use a string + variable as well\n"
   ]
  },
  {
   "cell_type": "code",
   "execution_count": 6,
   "id": "b99cfa68",
   "metadata": {},
   "outputs": [
    {
     "name": "stdout",
     "output_type": "stream",
     "text": [
      "1 1000.0 John Doe\n",
      "1\n"
     ]
    }
   ],
   "source": [
    "var = 1\n",
    "account_balance = 1000.0\n",
    "client_name = 'John Doe'\n",
    "print(var, account_balance, client_name)\n",
    "print(var)\n"
   ]
  },
  {
   "cell_type": "markdown",
   "id": "bb6ae3f8",
   "metadata": {},
   "source": [
    "#### Assigning a new value to an already existing variable\n",
    "\n",
    "- ( = ) is an assignment operator,\n",
    "- It assigns the value of right argument to the left, where right value can be any literal, operators and even variables.\n"
   ]
  },
  {
   "cell_type": "code",
   "execution_count": 7,
   "id": "4f090a19",
   "metadata": {},
   "outputs": [
    {
     "name": "stdout",
     "output_type": "stream",
     "text": [
      "500\n"
     ]
    }
   ],
   "source": [
    "var = 100\n",
    "var = 200 + 300\n",
    "print(var)\n",
    " "
   ]
  },
  {
   "cell_type": "code",
   "execution_count": 8,
   "id": "982bd75d",
   "metadata": {},
   "outputs": [
    {
     "name": "stdout",
     "output_type": "stream",
     "text": [
      "1\n",
      "2\n"
     ]
    }
   ],
   "source": [
    "var = 1\n",
    "print(var)\n",
    "var = var + 1\n",
    "print(var)\n",
    "\n"
   ]
  },
  {
   "cell_type": "markdown",
   "id": "112984de",
   "metadata": {},
   "source": [
    "#### Solving simple mathematical problems\n",
    "\n",
    "- Lets solve simple problem pertaining to the Pythagoras Theorem.\n",
    "- The square of hypotenuse is  equal to the sum of the squares of the other two sides."
   ]
  },
  {
   "cell_type": "code",
   "execution_count": 11,
   "id": "3a70003d",
   "metadata": {},
   "outputs": [
    {
     "name": "stdout",
     "output_type": "stream",
     "text": [
      "Hypotenuse =  5.0\n"
     ]
    }
   ],
   "source": [
    "side_1 = 3\n",
    "side_2 = 4 \n",
    "hypotenuse = (side_1 ** 2 + side_2 ** 2)**0.5\n",
    "print(\"Hypotenuse = \", hypotenuse)"
   ]
  },
  {
   "cell_type": "markdown",
   "id": "926918fa",
   "metadata": {},
   "source": [
    "### LAB\n",
    "\n",
    "Once upon a time in Appleland, John had three apples, Mary had five apples, and Adam had six apples. They were all very happy and lived for a long time. End of story.\n",
    "Our task is to:\n",
    "\n",
    "- create the variables: john, mary, and adam;\n",
    "\n",
    "- assign values to the variables. The values must be equal to the numbers of fruit possessed by John, Mary, and Adam respectively;\n",
    "\n",
    "- having stored the numbers in the variables, print the variables on one line, and separate each of them with a comma;\n",
    "\n",
    "- now create a new variable named total_apples equal to the addition of the three previous variables.\n",
    "\n",
    "- print the value stored in total_apples to the console;"
   ]
  },
  {
   "cell_type": "code",
   "execution_count": 12,
   "id": "2a3f7f5e",
   "metadata": {},
   "outputs": [
    {
     "name": "stdout",
     "output_type": "stream",
     "text": [
      "3 5 6\n",
      "Total number of apples =  14\n"
     ]
    }
   ],
   "source": [
    "john = 3\n",
    "mary = 5\n",
    "adam = 6\n",
    "\n",
    "print(john, mary, adam)\n",
    "\n",
    "total_apples = (john + mary + adam)\n",
    "\n",
    "print(\"Total number of apples = \", total_apples)"
   ]
  },
  {
   "cell_type": "markdown",
   "id": "fbe1c123",
   "metadata": {},
   "source": [
    "#### Shortcut Operators\n",
    "\n",
    "- If we want to perform addition or multiplication operation on the same variable, then we can just shorten the code as in the examples below"
   ]
  },
  {
   "cell_type": "code",
   "execution_count": 14,
   "id": "e7cb42b1",
   "metadata": {},
   "outputs": [
    {
     "name": "stdout",
     "output_type": "stream",
     "text": [
      "6\n"
     ]
    }
   ],
   "source": [
    "sheep = 5\n",
    "\n",
    "sheep = sheep + 1\n",
    "\n",
    "print(sheep)"
   ]
  },
  {
   "cell_type": "markdown",
   "id": "4c81161d",
   "metadata": {},
   "source": [
    "- We can write the above code in shortened form as follows\n"
   ]
  },
  {
   "cell_type": "code",
   "execution_count": 15,
   "id": "dea3211e",
   "metadata": {},
   "outputs": [
    {
     "name": "stdout",
     "output_type": "stream",
     "text": [
      "7\n"
     ]
    }
   ],
   "source": [
    "sheep += 1\n",
    "\n",
    "print(sheep)"
   ]
  },
  {
   "cell_type": "code",
   "execution_count": 17,
   "id": "ef62198f",
   "metadata": {},
   "outputs": [
    {
     "name": "stdout",
     "output_type": "stream",
     "text": [
      "14\n"
     ]
    }
   ],
   "source": [
    "sheep *= 2\n",
    "\n",
    "print(sheep)"
   ]
  },
  {
   "cell_type": "markdown",
   "id": "8a06b93e",
   "metadata": {},
   "source": [
    "##### Some examples of shortcut\n",
    "\n",
    "i = i + 2 * j\n",
    "> Shortcut   i += 2 * j\n",
    "\n",
    "var = var / 2 \n",
    "> Shortcut   var /= 2\n",
    "\n",
    "rem = rem % 10             \n",
    "> Shortcut rem %= 10\n",
    "\n",
    "j = j - (i + var + rem)     \n",
    "> Shortcut  j -= (i + var + rem)\n",
    "\n",
    "x = x ** 2                  \n",
    "> Shortcut x **= 2"
   ]
  },
  {
   "cell_type": "markdown",
   "id": "e26911be",
   "metadata": {},
   "source": [
    "## LAB : a simple converter"
   ]
  },
  {
   "cell_type": "markdown",
   "id": "de4162d0",
   "metadata": {},
   "source": [
    "Miles and kilometers are units of length or distance.\n",
    "\n",
    "Bearing in mind that 1 mile is equal to approximately 1.61 kilometers, complete the program in the editor so that it converts:\n",
    "\n",
    "- miles to kilometers;\n",
    "- kilometers to miles.\n",
    "\n"
   ]
  },
  {
   "cell_type": "code",
   "execution_count": null,
   "id": "32cce9d9",
   "metadata": {},
   "outputs": [],
   "source": [
    "kilometers = 12.25\n",
    "miles = 7.38\n",
    "\n",
    "miles_to_kilometers = miles * 1.61\n",
    "kilometers_to_miles = kilometers / 1.61\n",
    "\n",
    "print(miles, \"miles is\", round(miles_to_kilometers, 2), \"kilometers\")\n",
    "print(kilometers, \"kilometers is\", round(kilometers_to_miles, 2), \"miles\")\n"
   ]
  },
  {
   "cell_type": "markdown",
   "id": "7425d939",
   "metadata": {},
   "source": [
    "## LAB : Operators & Expressions\n",
    "\n",
    "Take a look at the code in the editor: it reads a float value, puts it into a variable named x, and prints the value of a variable named y. Your task is to complete the code in order to evaluate the following expression:\n",
    "> 3x^3 - 2x^2 + 3x - 1\n",
    "\n",
    "The result should be assigned to y.\n",
    "\n"
   ]
  },
  {
   "cell_type": "code",
   "execution_count": null,
   "id": "f377a591",
   "metadata": {},
   "outputs": [],
   "source": [
    "x = 0\n",
    "x = float(x)\n",
    "y = 3 * x**3 - 2 * x**2 + 3 * x - 1\n",
    "print(\"y =\", y)\n",
    "\n",
    "x = 1\n",
    "x = float(x)\n",
    "y = 3 * x**3 - 2 * x**2 + 3 * x - 1\n",
    "print(\"y =\", y)\n",
    "\n",
    "x = -1\n",
    "x = float(x)\n",
    "y = 3 * x**3 - 2 * x**2 + 3 * x - 1\n",
    "print(\"y =\", y)\n"
   ]
  },
  {
   "cell_type": "markdown",
   "id": "fdb99aba",
   "metadata": {},
   "source": [
    "## Summary\n",
    "\n",
    "1. A variable is a named location reserved to store values in the memory. A variable is created or initialized automatically when you assign a value to it for the first time. (2.1.4.1)\n",
    "\n",
    "2. Each variable must have a unique name ‒ an identifier. A legal identifier name must be a non-empty sequence of characters, must begin with the underscore(_), or a letter, and it cannot be a Python keyword. The first character may be followed by underscores, letters, and digits. Identifiers in Python are case-sensitive.\n",
    "\n",
    "3. Python is a dynamically-typed language, which means you don't need to declare variables in it. (2.1.4.3) To assign values to variables, you can use a simple assignment operator in the form of the equal (=) sign, i.e., var = 1.\n",
    "\n",
    "4. You can also use compound assignment operators (shortcut operators) to modify values assigned to variables, for example: var += 1, or var /= 5 * 2.\n",
    "\n",
    "5. You can assign new values to already existing variables using the assignment operator or one of the compound operators, for example:\n",
    "\n",
    "> var = 2\n",
    "   print(var)\n",
    " \n",
    "> var = 3\n",
    "   print(var)\n",
    " \n",
    "> var += 1\n",
    "   print(var)\n",
    " "
   ]
  },
  {
   "cell_type": "code",
   "execution_count": 29,
   "id": "75f39a44",
   "metadata": {},
   "outputs": [
    {
     "ename": "TypeError",
     "evalue": "'int' object is not callable",
     "output_type": "error",
     "traceback": [
      "\u001b[1;31m---------------------------------------------------------------------------\u001b[0m",
      "\u001b[1;31mTypeError\u001b[0m                                 Traceback (most recent call last)",
      "\u001b[1;32m~\\AppData\\Local\\Temp\\ipykernel_8236\\3567809235.py\u001b[0m in \u001b[0;36m<module>\u001b[1;34m\u001b[0m\n\u001b[0;32m      3\u001b[0m \u001b[0ma\u001b[0m \u001b[1;33m/=\u001b[0m \u001b[1;36m2\u001b[0m\u001b[1;33m*\u001b[0m\u001b[0mb\u001b[0m\u001b[1;33m\u001b[0m\u001b[1;33m\u001b[0m\u001b[0m\n\u001b[0;32m      4\u001b[0m \u001b[1;33m\u001b[0m\u001b[0m\n\u001b[1;32m----> 5\u001b[1;33m \u001b[0mprint\u001b[0m\u001b[1;33m(\u001b[0m\u001b[0ma\u001b[0m\u001b[1;33m)\u001b[0m\u001b[1;33m\u001b[0m\u001b[1;33m\u001b[0m\u001b[0m\n\u001b[0m",
      "\u001b[1;31mTypeError\u001b[0m: 'int' object is not callable"
     ]
    }
   ],
   "source": [
    "a = 6\n",
    "b = 3\n",
    "a /= 2*b\n",
    "\n",
    "print(a)"
   ]
  },
  {
   "cell_type": "code",
   "execution_count": null,
   "id": "0cfd9f45",
   "metadata": {},
   "outputs": [],
   "source": []
  }
 ],
 "metadata": {
  "kernelspec": {
   "display_name": "Python 3 (ipykernel)",
   "language": "python",
   "name": "python3"
  },
  "language_info": {
   "codemirror_mode": {
    "name": "ipython",
    "version": 3
   },
   "file_extension": ".py",
   "mimetype": "text/x-python",
   "name": "python",
   "nbconvert_exporter": "python",
   "pygments_lexer": "ipython3",
   "version": "3.9.13"
  }
 },
 "nbformat": 4,
 "nbformat_minor": 5
}
