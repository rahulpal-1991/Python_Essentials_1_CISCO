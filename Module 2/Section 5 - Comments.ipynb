{
 "cells": [
  {
   "cell_type": "markdown",
   "id": "dee42aa1",
   "metadata": {},
   "source": [
    "# Comments"
   ]
  },
  {
   "cell_type": "markdown",
   "id": "8b4b87eb",
   "metadata": {},
   "source": [
    "#### Introduction\n",
    "\n",
    "- A remark inserted into the program, which is omitted at runtime, is called a comment.\n",
    "\n",
    "- Comments are addressed not to Python, but to humans, usually to explain to other readers of the code about how the code is working, meaning if the variables, and to keep stored information on who the author is, and when the code is written.\n",
    "\n",
    "- A comment in Python, is a piece of text, that begins with ( # ) and extedns to the end of that line.\n",
    "\n",
    "- A good, responsible developers describe each important piece of code, like explaining the role of the variables, although best way is to name a variable so that it is not confusing.\n"
   ]
  },
  {
   "cell_type": "code",
   "execution_count": 2,
   "id": "76a40b42",
   "metadata": {},
   "outputs": [
    {
     "name": "stdout",
     "output_type": "stream",
     "text": [
      "c = 5.0\n"
     ]
    }
   ],
   "source": [
    "# This program evaluates the hypotenuse c.\n",
    "# a and b are the lengths of the legs.\n",
    "a = 3.0\n",
    "b = 4.0\n",
    "c = (a ** 2 + b ** 2) ** 0.5   # We use ** instead of a square root.\n",
    "print(\"c =\", c)\n",
    "\n"
   ]
  },
  {
   "cell_type": "markdown",
   "id": "dbfc700e",
   "metadata": {},
   "source": [
    "#### Marking fragments of code\n",
    "\n",
    "- We can mark a piece of code that is currently not needed as a comment in Python.\n",
    "- This is often during the testing of a program, in order to isolate the place where an error might be hidden.\n",
    "- If we comment, or uncomment a code, it will affect the output of the code.\n",
    "\n"
   ]
  },
  {
   "cell_type": "code",
   "execution_count": 3,
   "id": "88664f7e",
   "metadata": {},
   "outputs": [
    {
     "name": "stdout",
     "output_type": "stream",
     "text": [
      "3\n"
     ]
    }
   ],
   "source": [
    "# This is a test program.\n",
    "\n",
    "x = 1\n",
    "y = 2\n",
    "# y = y + x\n",
    "print(x + y)"
   ]
  },
  {
   "cell_type": "code",
   "execution_count": 4,
   "id": "110461db",
   "metadata": {},
   "outputs": [
    {
     "name": "stdout",
     "output_type": "stream",
     "text": [
      "4\n"
     ]
    }
   ],
   "source": [
    "# Uncommenting the previously commented code.\n",
    "\n",
    "x = 1\n",
    "y = 2\n",
    "y = y + x\n",
    "print(x + y)\n",
    "\n"
   ]
  },
  {
   "cell_type": "markdown",
   "id": "7caaee55",
   "metadata": {},
   "source": [
    "#### Summary\n",
    "\n",
    "1. Comments can be used to leave additional information in code. They are omitted at runtime. The information left in the source code is addressed to human readers. In Python, a comment is a piece of text that begins with #. The comment extends to the end of the line.\n",
    "\n",
    "2. If you want to place a comment that spans several lines, you need to place # in front of them all. Moreover, you can use a comment to mark a piece of code that is not needed at the moment\n",
    "\n",
    "3. Whenever possible and justified, you should give self-commenting names to variables, e.g., if you're using two variables to store the length and width of something, the variable names length and width may be a better choice than myvar1 and myvar2.\n",
    "\n",
    "4. It's important to use comments to make programs easier to understand, and to use readable and meaningful variable names in code. However, it's equally important not to use variable names that are confusing, or leave comments that contain wrong or incorrect information!\n",
    "\n",
    "5. Comments can be important when you are reading your own code after some time (trust us, developers do forget what their own code does), and when others are reading your code (they can help them understand what your programs do and how they do it more quickly)."
   ]
  }
 ],
 "metadata": {
  "kernelspec": {
   "display_name": "Python 3 (ipykernel)",
   "language": "python",
   "name": "python3"
  },
  "language_info": {
   "codemirror_mode": {
    "name": "ipython",
    "version": 3
   },
   "file_extension": ".py",
   "mimetype": "text/x-python",
   "name": "python",
   "nbconvert_exporter": "python",
   "pygments_lexer": "ipython3",
   "version": "3.9.16"
  }
 },
 "nbformat": 4,
 "nbformat_minor": 5
}
