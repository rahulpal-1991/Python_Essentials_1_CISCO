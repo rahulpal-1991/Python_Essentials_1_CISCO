{
 "cells": [
  {
   "cell_type": "markdown",
   "id": "596f52b6",
   "metadata": {},
   "source": [
    "#### The print() Function"
   ]
  },
  {
   "cell_type": "code",
   "execution_count": 1,
   "id": "7d7c6ec7",
   "metadata": {},
   "outputs": [
    {
     "name": "stdout",
     "output_type": "stream",
     "text": [
      "Hello, World!\n"
     ]
    }
   ],
   "source": [
    "print(\"Hello, World!\")"
   ]
  },
  {
   "cell_type": "markdown",
   "id": "16416934",
   "metadata": {},
   "source": [
    "#### Python functions are more flexible and contain more content than their mathematical siblings.\n",
    "\n",
    "- A function is a separate part of the computer code able to :\n",
    "     1. Cause some effect : Like send text to the terminal, create a file, draw an image, play a sound etc.\n",
    "     \n",
    "     2. Evaluate a value : like the square root of a value, or the length of a given text, and return it as the function's result\n",
    "\n",
    "Many Python functions do the above things together"
   ]
  },
  {
   "cell_type": "code",
   "execution_count": null,
   "id": "086772b8",
   "metadata": {},
   "outputs": [],
   "source": []
  },
  {
   "cell_type": "markdown",
   "id": "65c75939",
   "metadata": {},
   "source": [
    "#### Where do the functions come From\n",
    "\n",
    "- From Python Itself\n",
    "> Python has several functions (Buit-In Functions), like print(), and we don't have to do anything special to use them\n",
    "\n",
    "- From Modules\n",
    "> Some functions come from one or more of Python's add-ons, also called 'MODULES'. Some may come with Python, while some modules may require additional installations. We need them to be explicitly connected with our code. We will see that later.\n",
    "\n",
    "- From Our Code\n",
    "> We can even make our own functions (User-Defined Functions), to make our program simpler, clearer & more elegant."
   ]
  },
  {
   "cell_type": "code",
   "execution_count": null,
   "id": "55a956bc",
   "metadata": {},
   "outputs": [],
   "source": []
  },
  {
   "cell_type": "markdown",
   "id": "9bef784a",
   "metadata": {},
   "source": [
    "#### Function Arguments\n",
    "\n",
    "- Python functions may take several arguments as needed, or may not need any, depending on the specificity of the task. \n",
    "- We place the function arguments within the paranthesis.\n",
    "- We use paranthesis after any function, even if they don't have any arguments, to distinguish them from ordinary words in Python. This is a General Convention.\n"
   ]
  },
  {
   "cell_type": "code",
   "execution_count": null,
   "id": "7c3135db",
   "metadata": {},
   "outputs": [],
   "source": []
  },
  {
   "cell_type": "markdown",
   "id": "1ba0270e",
   "metadata": {},
   "source": [
    "#### Quotes\n",
    "\n",
    "- The String is delimited with quotes.\n",
    "- Anything that we will write within the quotes would be taken literally by Python, and not as a code, but as data.\n"
   ]
  },
  {
   "cell_type": "code",
   "execution_count": null,
   "id": "5841ec20",
   "metadata": {},
   "outputs": [],
   "source": []
  },
  {
   "cell_type": "markdown",
   "id": "e75f530c",
   "metadata": {},
   "source": [
    "#### Function Invocation\n",
    "\n",
    "- The function name, along with the parantheses and argument(s) is called the function invocation.\n",
    "\n",
    "###### What happens when Python encounters a function invocation (Built-in or user defined)\n",
    "The 5 stages\n",
    "\n",
    "- Python checks if the function name is legal(existing function), if not, the function aborts.\n",
    "- Python checks if the functions requirements for the number of arguments is satisfied ( if it requires two arguments, and we provide only one or more than that, then the code execution will be abortted.)\n",
    "- Python leaves all other codes in the file for a moment, then jumps into the function we want to invoke, takes our arguments and then passes it to the funciton.\n",
    "- The function executes its code, evaluates the desired results and finishes its tasks.\n",
    "- Python returns to our code, just after the function invocation, and resumes their execution."
   ]
  },
  {
   "cell_type": "code",
   "execution_count": null,
   "id": "e16dc91d",
   "metadata": {},
   "outputs": [],
   "source": []
  },
  {
   "cell_type": "markdown",
   "id": "05af157d",
   "metadata": {},
   "source": [
    "#### The print() function and its EFFECT, ARGUMENTS, and VALUES RETURNED\n",
    "\n",
    "###### 1. What does the print() function cause?\n",
    "    - Takes its arguments, either none or more than one.\n",
    "    - Converts the arguments into human-readable form ( if needed )\n",
    "    - Sends the Resulting Data to the Output Device.\n",
    "    \n",
    "######  2. What arguments does the print() expect?\n",
    "\n",
    "    - The print() function is able to operate with virtually all types of data offered by Python.\n",
    "    \n",
    "    \n",
    "######  3. What VALUE does the print() function return?\n",
    "\n",
    "    - None, It just causes the desired effect (Ref. I)\n",
    "    \n"
   ]
  },
  {
   "cell_type": "code",
   "execution_count": null,
   "id": "14d5c9eb",
   "metadata": {},
   "outputs": [],
   "source": []
  },
  {
   "cell_type": "markdown",
   "id": "bfe6b6e1",
   "metadata": {},
   "source": [
    "#### Instructions\n",
    "\n",
    "- Any computer program is made of up of instructions\n",
    "- Function Invocation is one of many possible kind of Python instruction.\n",
    "- There cannot be more than one function in a line in Python.\n",
    "- A line can be empty, but cannot contaion two, three or more instructions. Strictly Prohibited.\n",
    "- Although, one instruction can be spread across more than one line.\n",
    "- The instructions in the code are executed in the same order as they have been placed in the source file. "
   ]
  },
  {
   "cell_type": "code",
   "execution_count": null,
   "id": "f0f114d7",
   "metadata": {},
   "outputs": [],
   "source": []
  },
  {
   "cell_type": "markdown",
   "id": "9ec5b6ed",
   "metadata": {},
   "source": [
    "#### Python Escape and Newline characters.\n",
    "\n",
    "###### The Escape Character (backslash)\n",
    "- \\ is called the Escape Character, when used inside strings.\n",
    "- It means, that the series of characters in the string escapes for a very short moment to introduce some special instruction.\n",
    "- backslash doesn't mean anything in itself. Its only a kind of announcement, that the next character after \\ has a different meaning too.\n",
    "\n",
    "###### Newline\n",
    "\n",
    "- the letter n, places after the escape character is called newline.\n",
    "\n",
    "###### Newline Character\n",
    "\n",
    "- Both, the backslash and the n, form a special symbol, called newline character.\n",
    "- It urges the console to start a new output line.\n",
    "\n",
    "###### Consequences\n",
    "\n",
    "- If we want to put a backslash inside the string, then we have to write the double backslash, as the single backslash has the escaping nature. (print(\"\\\\\"))\n",
    "\n",
    "- Not all escape pairs (backslash + any character) means something. While learning, we try to remember only which means something.\n",
    "\n"
   ]
  },
  {
   "cell_type": "code",
   "execution_count": 1,
   "id": "4ceedc43",
   "metadata": {},
   "outputs": [
    {
     "name": "stdout",
     "output_type": "stream",
     "text": [
      "The itsy bitsy spider\n",
      "climbed up the waterspout\n"
     ]
    }
   ],
   "source": [
    "#Newline Character\n",
    "\n",
    "print(\"The itsy bitsy spider\\nclimbed up the waterspout\")"
   ]
  },
  {
   "cell_type": "code",
   "execution_count": null,
   "id": "de049a60",
   "metadata": {},
   "outputs": [],
   "source": []
  },
  {
   "cell_type": "markdown",
   "id": "65c93fd0",
   "metadata": {},
   "source": [
    "### Multiple Arguments\n",
    "\n",
    "- Multiple arguments are separated using commas.\n",
    "- commas inside the string is completely different from the commas used to separate arguments. Just remember the line.\n",
    "- If we use multiple arguments in the print(), the commas will be taken up as a space, and all the argument will be printed in one line.\n"
   ]
  },
  {
   "cell_type": "code",
   "execution_count": 4,
   "id": "ec460cce",
   "metadata": {},
   "outputs": [
    {
     "name": "stdout",
     "output_type": "stream",
     "text": [
      "The itsy bitsy spider climbed up the waterspout\n"
     ]
    }
   ],
   "source": [
    "print(\"The itsy bitsy spider\",\"climbed up\",\"the waterspout\")"
   ]
  },
  {
   "cell_type": "markdown",
   "id": "1b2e6a74",
   "metadata": {},
   "source": [
    "### Positional Arguments\n",
    "- The meaning of arguments in the function is dictated by its position.\n",
    "- The second argument will always be outputted after the first, not the other way round."
   ]
  },
  {
   "cell_type": "code",
   "execution_count": null,
   "id": "916bcfb7",
   "metadata": {},
   "outputs": [],
   "source": []
  },
  {
   "cell_type": "markdown",
   "id": "90d33979",
   "metadata": {},
   "source": [
    "### Keyword Arguments\n",
    "\n",
    "- Python offers another mechanism for passing of arguments\n",
    "- The meaning of these arguments is not taken from its position, but from the special words(keywords) used to identify them.\n",
    "\n"
   ]
  },
  {
   "cell_type": "markdown",
   "id": "ade677fd",
   "metadata": {},
   "source": [
    "###### The print function has two keyword arguments that we can use for our porposes\n",
    "> 1. end\n",
    ">> When used with the 'end' keyword, print() function sends the output once it reaches the end of its positional arguments.\n",
    "- Lets first see the example, then we discuss this later."
   ]
  },
  {
   "cell_type": "code",
   "execution_count": 6,
   "id": "af0789dd",
   "metadata": {},
   "outputs": [
    {
     "name": "stdout",
     "output_type": "stream",
     "text": [
      "My name is Python. Monty Python.\n"
     ]
    }
   ],
   "source": [
    "#Example 01 Keyword arguments\n",
    "print(\"My name is\",\"Python.\", end =\" \")\n",
    "print(\"Monty Python.\")"
   ]
  },
  {
   "cell_type": "code",
   "execution_count": 7,
   "id": "4a877c1b",
   "metadata": {},
   "outputs": [
    {
     "name": "stdout",
     "output_type": "stream",
     "text": [
      "My name is Monty Python.\n"
     ]
    }
   ],
   "source": [
    "#Example 02 Keyword arguments\n",
    "print(\"My name is \", end=\"\")\n",
    "print(\"Monty Python.\")"
   ]
  },
  {
   "cell_type": "code",
   "execution_count": 10,
   "id": "c495906f",
   "metadata": {},
   "outputs": [
    {
     "name": "stdout",
     "output_type": "stream",
     "text": [
      "My name is Bond, James Bond 007\n"
     ]
    }
   ],
   "source": [
    "#Example 03 Keyword arguments\n",
    "\n",
    "print(\"My name is Bond\", end =\", James Bond \")\n",
    "print(\"007\")"
   ]
  },
  {
   "cell_type": "markdown",
   "id": "498e6e24",
   "metadata": {},
   "source": [
    "- In example 01, We used 'end' keyword, and set it to the string containing one space.\n",
    "- In example 02, We used 'end' keyword, and let it be empty.\n",
    "- The string assigned to the 'end' argument can be of any length.\n",
    "\n",
    "See the output above."
   ]
  },
  {
   "cell_type": "markdown",
   "id": "0c127a64",
   "metadata": {},
   "source": [
    "###### Rules\n",
    "\n",
    "- The keyword argument contains three arguments\n",
    "    1. Keyword identifying the argument\n",
    "    2. Equal sign\n",
    "    3. Value assigned to the argument\n",
    "\n",
    "\n",
    "- The keyword arguments has to be places after the last positional argument"
   ]
  },
  {
   "cell_type": "markdown",
   "id": "73dc46f1",
   "metadata": {},
   "source": [
    "> 2. sep\n",
    ">> It is also called separator.\n",
    ">> It separates each string by the separator we use"
   ]
  },
  {
   "cell_type": "code",
   "execution_count": 11,
   "id": "c2926fe4",
   "metadata": {},
   "outputs": [
    {
     "name": "stdout",
     "output_type": "stream",
     "text": [
      "My-name-is-Monty-Python.\n"
     ]
    }
   ],
   "source": [
    "print(\"My\", \"name\", \"is\", \"Monty\", \"Python.\", sep=\"-\")"
   ]
  },
  {
   "cell_type": "markdown",
   "id": "16362bdc",
   "metadata": {},
   "source": [
    "We can also use both the 'end', and the 'sep' keywords together."
   ]
  },
  {
   "cell_type": "code",
   "execution_count": 14,
   "id": "8f05f87b",
   "metadata": {},
   "outputs": [
    {
     "name": "stdout",
     "output_type": "stream",
     "text": [
      "My_name_is*Monty_Python.*"
     ]
    }
   ],
   "source": [
    "print(\"My\", \"name\", \"is\", sep=\"_\", end=\"*\")\n",
    "print(\"Monty\", \"Python.\", sep=\"_\", end=\"*\")"
   ]
  },
  {
   "cell_type": "markdown",
   "id": "4e521cc9",
   "metadata": {},
   "source": [
    "### LAB\n",
    "We strongly encourage you to play with the code we've written for you, and make some (maybe even destructive) amendments. Feel free to modify any part of the code, but there is one condition ‒ learn from your mistakes and draw your own conclusions.\n",
    "\n",
    "Try to:\n",
    "\n",
    "- minimize the number of print() function invocations by inserting the \\n sequence into the strings;\n",
    "- make the arrow twice as large (but keep the proportions)\n",
    "- duplicate the arrow, placing both arrows side by side; note: a string may be multiplied by using the following trick: \"string\" * 2 will produce \"stringstring\" (we'll tell you more about it soon)\n",
    "- remove any of the quotes, and look carefully at Python's response; pay attention to where Python sees an error ‒ is this the place where the error really exists?\n",
    "- do the same with some of the parentheses;\n",
    "- change any of the print words into something else, differing only in case (e.g., Print) ‒ what happens now?\n",
    "- replace some of the quotes with apostrophes; watch what happens carefully.\n"
   ]
  },
  {
   "cell_type": "markdown",
   "id": "f3b0ceb3",
   "metadata": {},
   "source": [
    "print(\"    *\")\n",
    "\n",
    "print(\"   * *\")\n",
    "\n",
    "print(\"  *   *\")\n",
    "\n",
    "print(\" *     *\")\n",
    "\n",
    "print(\"***   ***\")\n",
    "\n",
    "print(\"  *   *\")\n",
    "\n",
    "print(\"  *   *\")\n",
    "\n",
    "print(\"  *****\")\n"
   ]
  },
  {
   "cell_type": "code",
   "execution_count": 15,
   "id": "76c79356",
   "metadata": {},
   "outputs": [
    {
     "name": "stdout",
     "output_type": "stream",
     "text": [
      "original version:\n",
      "    *\n",
      "   * *\n",
      "  *   *\n",
      " *     *\n",
      "***   ***\n",
      "  *   *\n",
      "  *   *\n",
      "  *****\n",
      "with fewer 'print()' invocations:\n",
      "    *\n",
      "   * *\n",
      "  *   *\n",
      " *     *\n",
      "***   ***\n",
      "  *   *\n",
      "  *   *\n",
      "  *****\n",
      "higher:\n",
      "        *\n",
      "       * *\n",
      "      *   *\n",
      "     *     *\n",
      "    *       *\n",
      "   *         *\n",
      "  *           *\n",
      " *             *\n",
      "******     ******\n",
      "     *     *\n",
      "     *     *\n",
      "     *     *\n",
      "     *     *\n",
      "     *     *\n",
      "     *     *\n",
      "     *******\n",
      "doubled:\n",
      "        *                *        \n",
      "       * *              * *       \n",
      "      *   *            *   *      \n",
      "     *     *          *     *     \n",
      "    *       *        *       *    \n",
      "   *         *      *         *   \n",
      "  *           *    *           *  \n",
      " *             *  *             * \n",
      "******     ************     ******\n",
      "     *     *          *     *     \n",
      "     *     *          *     *     \n",
      "     *     *          *     *     \n",
      "     *     *          *     *     \n",
      "     *     *          *     *     \n",
      "     *     *          *     *     \n",
      "     *******          *******     \n"
     ]
    }
   ],
   "source": [
    "# Sample Solution\n",
    "\n",
    "###################\n",
    "print(\"original version:\")\n",
    "###################\n",
    "print(\"    *\")\n",
    "print(\"   * *\")\n",
    "print(\"  *   *\")\n",
    "print(\" *     *\")\n",
    "print(\"***   ***\")\n",
    "print(\"  *   *\")\n",
    "print(\"  *   *\")\n",
    "print(\"  *****\")\n",
    "###################\n",
    "print(\"with fewer 'print()' invocations:\")\n",
    "###################\n",
    "print(\"    *\\n   * *\\n  *   *\\n *     *\\n***   ***\")\n",
    "print(\"  *   *\\n  *   *\\n  *****\")\n",
    "###################\n",
    "print(\"higher:\")\n",
    "###################\n",
    "print(\"        *\")\n",
    "print(\"       * *\")\n",
    "print(\"      *   *\")\n",
    "print(\"     *     *\")\n",
    "print(\"    *       *\")\n",
    "print(\"   *         *\")\n",
    "print(\"  *           *\")\n",
    "print(\" *             *\")\n",
    "print(\"******     ******\")\n",
    "print(\"     *     *\")\n",
    "print(\"     *     *\")\n",
    "print(\"     *     *\")\n",
    "print(\"     *     *\")\n",
    "print(\"     *     *\")\n",
    "print(\"     *     *\")\n",
    "print(\"     *******\")\n",
    "###################\n",
    "print(\"doubled:\")\n",
    "###################\n",
    "print(\"        *        \"*2)\n",
    "print(\"       * *       \"*2)\n",
    "print(\"      *   *      \"*2)\n",
    "print(\"     *     *     \"*2)\n",
    "print(\"    *       *    \"*2)\n",
    "print(\"   *         *   \"*2)\n",
    "print(\"  *           *  \"*2)\n",
    "print(\" *             * \"*2)\n",
    "print(\"******     ******\"*2)\n",
    "print(\"     *     *     \"*2)\n",
    "print(\"     *     *     \"*2)\n",
    "print(\"     *     *     \"*2)\n",
    "print(\"     *     *     \"*2)\n",
    "print(\"     *     *     \"*2)\n",
    "print(\"     *     *     \"*2)\n",
    "print(\"     *******     \"*2)\n"
   ]
  },
  {
   "cell_type": "markdown",
   "id": "9d09cd48",
   "metadata": {},
   "source": [
    "### Summary\n",
    "\n",
    "1. The print() function is a built-in function. It prints/outputs a specified message to the screen/consol window.\n",
    "\n",
    "2. Built-in functions, contrary to user-defined functions, are always available and don't have to be imported. Python 3.8 comes with 69 built-in functions. You can find their full list provided in alphabetical order in the Python Standard Library.\n",
    "\n",
    "3. To call a function (this process is known as function invocation or function call), you need to use the function name followed by parentheses. You can pass arguments into a function by placing them inside the parentheses. You must separate arguments with a comma, e.g., print(\"Hello,\", \"world!\"). An \"empty\" print() function outputs an empty line to the screen.\n",
    "\n",
    "4. Python strings are delimited with quotes, e.g., \"I am a string\" (double quotes), or 'I am a string, too' (single quotes).\n",
    "\n",
    "5. Computer programs are collections of instructions. An instruction is a command to perform a specific task when executed, e.g., to print a certain message to the screen.\n",
    "\n",
    "7. Positional arguments are the ones whose meaning is dictated by their position, e.g., the second argument is outputted after the first, the third is outputted after the second, etc.\n",
    "\n",
    "8. Keyword arguments are the ones whose meaning is not dictated by their location, but by a special word (keyword) used to identify them.\n",
    "\n",
    "9. The end and sep parameters can be used for formatting the output of the print() function. The sep parameter specifies the separator between the outputted arguments, e.g., print(\"H\", \"E\", \"L\", \"L\", \"O\", sep=\"-\"), whereas the end parameter specifies what to print at the end of the print statement.\n",
    "\n",
    "\n"
   ]
  }
 ],
 "metadata": {
  "kernelspec": {
   "display_name": "Python 3 (ipykernel)",
   "language": "python",
   "name": "python3"
  },
  "language_info": {
   "codemirror_mode": {
    "name": "ipython",
    "version": 3
   },
   "file_extension": ".py",
   "mimetype": "text/x-python",
   "name": "python",
   "nbconvert_exporter": "python",
   "pygments_lexer": "ipython3",
   "version": "3.9.13"
  }
 },
 "nbformat": 4,
 "nbformat_minor": 5
}
